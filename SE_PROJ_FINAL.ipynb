{
 "cells": [
  {
   "cell_type": "markdown",
   "id": "f41546c8",
   "metadata": {},
   "source": [
    "# Phishing URL Detection \n",
    "\n",
    "The Internet has become an indispensable part of\n",
    "our life, However, It also has provided opportunities to anonymously perform malicious activities like Phishing. Phishers try to deceive their victims by social engineering or creating mockup websites to steal information such as account ID, username, password from individuals and organizations. Although many methods have been proposed to detect phishing websites, Phishers have evolved their methods to escape from these detection methods. One of the most successful methods for detecting these malicious activities is Machine Learning. This is because most Phishing attacks have some common characteristics which can be identified by machine learning methods."
   ]
  },
  {
   "cell_type": "markdown",
   "id": "86acf7a9",
   "metadata": {},
   "source": []
  },
  {
   "cell_type": "code",
   "execution_count": 1,
   "id": "937f9b5e",
   "metadata": {},
   "outputs": [],
   "source": [
    "#pip install colorama"
   ]
  },
  {
   "cell_type": "code",
   "execution_count": 2,
   "id": "1ace5d83",
   "metadata": {},
   "outputs": [],
   "source": [
    "#pip install easygui"
   ]
  },
  {
   "cell_type": "code",
   "execution_count": 3,
   "id": "452bde93",
   "metadata": {},
   "outputs": [],
   "source": [
    "#pip install xgboost"
   ]
  },
  {
   "cell_type": "code",
   "execution_count": 4,
   "id": "c9e9fbdd",
   "metadata": {},
   "outputs": [],
   "source": [
    "#pip install catboost"
   ]
  },
  {
   "cell_type": "code",
   "execution_count": 6,
   "id": "51ca7313",
   "metadata": {},
   "outputs": [],
   "source": [
    "#importing required libraries\n",
    "import gradio as gr\n",
    "import regex as re\n",
    "import numpy as np\n",
    "import pandas as pd\n",
    "import matplotlib.pyplot as plt\n",
    "%matplotlib inline\n",
    "import seaborn as sns\n",
    "from sklearn import metrics \n",
    "import warnings\n",
    "warnings.filterwarnings('ignore')"
   ]
  },
  {
   "cell_type": "markdown",
   "id": "7db94f12",
   "metadata": {},
   "source": [
    "## 1. Loading Data:\n",
    "\n",
    "The dataset is borrowed from Kaggle, https://www.kaggle.com/eswarchandt/phishing-website-detector .\n",
    "\n",
    "A collection of website URLs for 11000+ websites. Each sample has 30 website parameters and a class label identifying it as a phishing website or not (1 or -1).\n",
    "\n",
    "\n",
    "The overview of this dataset is, it has 11054 samples with 32 features. "
   ]
  },
  {
   "cell_type": "code",
   "execution_count": 7,
   "id": "ec491f22",
   "metadata": {},
   "outputs": [
    {
     "data": {
      "text/html": [
       "<div>\n",
       "<style scoped>\n",
       "    .dataframe tbody tr th:only-of-type {\n",
       "        vertical-align: middle;\n",
       "    }\n",
       "\n",
       "    .dataframe tbody tr th {\n",
       "        vertical-align: top;\n",
       "    }\n",
       "\n",
       "    .dataframe thead th {\n",
       "        text-align: right;\n",
       "    }\n",
       "</style>\n",
       "<table border=\"1\" class=\"dataframe\">\n",
       "  <thead>\n",
       "    <tr style=\"text-align: right;\">\n",
       "      <th></th>\n",
       "      <th>Index</th>\n",
       "      <th>UsingIP</th>\n",
       "      <th>LongURL</th>\n",
       "      <th>ShortURL</th>\n",
       "      <th>Symbol@</th>\n",
       "      <th>Redirecting//</th>\n",
       "      <th>PrefixSuffix-</th>\n",
       "      <th>SubDomains</th>\n",
       "      <th>HTTPS</th>\n",
       "      <th>DomainRegLen</th>\n",
       "      <th>...</th>\n",
       "      <th>UsingPopupWindow</th>\n",
       "      <th>IframeRedirection</th>\n",
       "      <th>AgeofDomain</th>\n",
       "      <th>DNSRecording</th>\n",
       "      <th>WebsiteTraffic</th>\n",
       "      <th>PageRank</th>\n",
       "      <th>GoogleIndex</th>\n",
       "      <th>LinksPointingToPage</th>\n",
       "      <th>StatsReport</th>\n",
       "      <th>class</th>\n",
       "    </tr>\n",
       "  </thead>\n",
       "  <tbody>\n",
       "    <tr>\n",
       "      <th>0</th>\n",
       "      <td>0</td>\n",
       "      <td>1</td>\n",
       "      <td>1</td>\n",
       "      <td>1</td>\n",
       "      <td>1</td>\n",
       "      <td>1</td>\n",
       "      <td>-1</td>\n",
       "      <td>0</td>\n",
       "      <td>1</td>\n",
       "      <td>-1</td>\n",
       "      <td>...</td>\n",
       "      <td>1</td>\n",
       "      <td>1</td>\n",
       "      <td>-1</td>\n",
       "      <td>-1</td>\n",
       "      <td>0</td>\n",
       "      <td>-1</td>\n",
       "      <td>1</td>\n",
       "      <td>1</td>\n",
       "      <td>1</td>\n",
       "      <td>-1</td>\n",
       "    </tr>\n",
       "    <tr>\n",
       "      <th>1</th>\n",
       "      <td>1</td>\n",
       "      <td>1</td>\n",
       "      <td>0</td>\n",
       "      <td>1</td>\n",
       "      <td>1</td>\n",
       "      <td>1</td>\n",
       "      <td>-1</td>\n",
       "      <td>-1</td>\n",
       "      <td>-1</td>\n",
       "      <td>-1</td>\n",
       "      <td>...</td>\n",
       "      <td>1</td>\n",
       "      <td>1</td>\n",
       "      <td>1</td>\n",
       "      <td>-1</td>\n",
       "      <td>1</td>\n",
       "      <td>-1</td>\n",
       "      <td>1</td>\n",
       "      <td>0</td>\n",
       "      <td>-1</td>\n",
       "      <td>-1</td>\n",
       "    </tr>\n",
       "    <tr>\n",
       "      <th>2</th>\n",
       "      <td>2</td>\n",
       "      <td>1</td>\n",
       "      <td>0</td>\n",
       "      <td>1</td>\n",
       "      <td>1</td>\n",
       "      <td>1</td>\n",
       "      <td>-1</td>\n",
       "      <td>-1</td>\n",
       "      <td>-1</td>\n",
       "      <td>1</td>\n",
       "      <td>...</td>\n",
       "      <td>1</td>\n",
       "      <td>1</td>\n",
       "      <td>-1</td>\n",
       "      <td>-1</td>\n",
       "      <td>1</td>\n",
       "      <td>-1</td>\n",
       "      <td>1</td>\n",
       "      <td>-1</td>\n",
       "      <td>1</td>\n",
       "      <td>-1</td>\n",
       "    </tr>\n",
       "    <tr>\n",
       "      <th>3</th>\n",
       "      <td>3</td>\n",
       "      <td>1</td>\n",
       "      <td>0</td>\n",
       "      <td>-1</td>\n",
       "      <td>1</td>\n",
       "      <td>1</td>\n",
       "      <td>-1</td>\n",
       "      <td>1</td>\n",
       "      <td>1</td>\n",
       "      <td>-1</td>\n",
       "      <td>...</td>\n",
       "      <td>-1</td>\n",
       "      <td>1</td>\n",
       "      <td>-1</td>\n",
       "      <td>-1</td>\n",
       "      <td>0</td>\n",
       "      <td>-1</td>\n",
       "      <td>1</td>\n",
       "      <td>1</td>\n",
       "      <td>1</td>\n",
       "      <td>1</td>\n",
       "    </tr>\n",
       "    <tr>\n",
       "      <th>4</th>\n",
       "      <td>4</td>\n",
       "      <td>-1</td>\n",
       "      <td>0</td>\n",
       "      <td>-1</td>\n",
       "      <td>1</td>\n",
       "      <td>-1</td>\n",
       "      <td>-1</td>\n",
       "      <td>1</td>\n",
       "      <td>1</td>\n",
       "      <td>-1</td>\n",
       "      <td>...</td>\n",
       "      <td>1</td>\n",
       "      <td>1</td>\n",
       "      <td>1</td>\n",
       "      <td>1</td>\n",
       "      <td>1</td>\n",
       "      <td>-1</td>\n",
       "      <td>1</td>\n",
       "      <td>-1</td>\n",
       "      <td>-1</td>\n",
       "      <td>1</td>\n",
       "    </tr>\n",
       "  </tbody>\n",
       "</table>\n",
       "<p>5 rows × 32 columns</p>\n",
       "</div>"
      ],
      "text/plain": [
       "   Index  UsingIP  LongURL  ShortURL  Symbol@  Redirecting//  PrefixSuffix-  \\\n",
       "0      0        1        1         1        1              1             -1   \n",
       "1      1        1        0         1        1              1             -1   \n",
       "2      2        1        0         1        1              1             -1   \n",
       "3      3        1        0        -1        1              1             -1   \n",
       "4      4       -1        0        -1        1             -1             -1   \n",
       "\n",
       "   SubDomains  HTTPS  DomainRegLen  ...  UsingPopupWindow  IframeRedirection  \\\n",
       "0           0      1            -1  ...                 1                  1   \n",
       "1          -1     -1            -1  ...                 1                  1   \n",
       "2          -1     -1             1  ...                 1                  1   \n",
       "3           1      1            -1  ...                -1                  1   \n",
       "4           1      1            -1  ...                 1                  1   \n",
       "\n",
       "   AgeofDomain  DNSRecording  WebsiteTraffic  PageRank  GoogleIndex  \\\n",
       "0           -1            -1               0        -1            1   \n",
       "1            1            -1               1        -1            1   \n",
       "2           -1            -1               1        -1            1   \n",
       "3           -1            -1               0        -1            1   \n",
       "4            1             1               1        -1            1   \n",
       "\n",
       "   LinksPointingToPage  StatsReport  class  \n",
       "0                    1            1     -1  \n",
       "1                    0           -1     -1  \n",
       "2                   -1            1     -1  \n",
       "3                    1            1      1  \n",
       "4                   -1           -1      1  \n",
       "\n",
       "[5 rows x 32 columns]"
      ]
     },
     "execution_count": 7,
     "metadata": {},
     "output_type": "execute_result"
    }
   ],
   "source": [
    "#Loading data into dataframe\n",
    "\n",
    "data = pd.read_csv(r'D:\\5th Sem\\Software Engineering\\phishing.csv')\n",
    "data.head()"
   ]
  },
  {
   "cell_type": "markdown",
   "id": "0413b490",
   "metadata": {},
   "source": [
    "## 2. Familiarizing with Data & EDA:\n",
    "In this step, few dataframe methods are used to look into the data and its features."
   ]
  },
  {
   "cell_type": "code",
   "execution_count": 8,
   "id": "9ccdddc5",
   "metadata": {},
   "outputs": [
    {
     "data": {
      "text/plain": [
       "(11054, 32)"
      ]
     },
     "execution_count": 8,
     "metadata": {},
     "output_type": "execute_result"
    }
   ],
   "source": [
    "#Shape of dataframe\n",
    "\n",
    "data.shape"
   ]
  },
  {
   "cell_type": "code",
   "execution_count": 9,
   "id": "c1e2ca3b",
   "metadata": {},
   "outputs": [
    {
     "data": {
      "text/plain": [
       "Index(['Index', 'UsingIP', 'LongURL', 'ShortURL', 'Symbol@', 'Redirecting//',\n",
       "       'PrefixSuffix-', 'SubDomains', 'HTTPS', 'DomainRegLen', 'Favicon',\n",
       "       'NonStdPort', 'HTTPSDomainURL', 'RequestURL', 'AnchorURL',\n",
       "       'LinksInScriptTags', 'ServerFormHandler', 'InfoEmail', 'AbnormalURL',\n",
       "       'WebsiteForwarding', 'StatusBarCust', 'DisableRightClick',\n",
       "       'UsingPopupWindow', 'IframeRedirection', 'AgeofDomain', 'DNSRecording',\n",
       "       'WebsiteTraffic', 'PageRank', 'GoogleIndex', 'LinksPointingToPage',\n",
       "       'StatsReport', 'class'],\n",
       "      dtype='object')"
      ]
     },
     "execution_count": 9,
     "metadata": {},
     "output_type": "execute_result"
    }
   ],
   "source": [
    "#Listing the features of the dataset\n",
    "\n",
    "data.columns"
   ]
  },
  {
   "cell_type": "code",
   "execution_count": 10,
   "id": "8ec005bb",
   "metadata": {},
   "outputs": [
    {
     "name": "stdout",
     "output_type": "stream",
     "text": [
      "<class 'pandas.core.frame.DataFrame'>\n",
      "RangeIndex: 11054 entries, 0 to 11053\n",
      "Data columns (total 32 columns):\n",
      " #   Column               Non-Null Count  Dtype\n",
      "---  ------               --------------  -----\n",
      " 0   Index                11054 non-null  int64\n",
      " 1   UsingIP              11054 non-null  int64\n",
      " 2   LongURL              11054 non-null  int64\n",
      " 3   ShortURL             11054 non-null  int64\n",
      " 4   Symbol@              11054 non-null  int64\n",
      " 5   Redirecting//        11054 non-null  int64\n",
      " 6   PrefixSuffix-        11054 non-null  int64\n",
      " 7   SubDomains           11054 non-null  int64\n",
      " 8   HTTPS                11054 non-null  int64\n",
      " 9   DomainRegLen         11054 non-null  int64\n",
      " 10  Favicon              11054 non-null  int64\n",
      " 11  NonStdPort           11054 non-null  int64\n",
      " 12  HTTPSDomainURL       11054 non-null  int64\n",
      " 13  RequestURL           11054 non-null  int64\n",
      " 14  AnchorURL            11054 non-null  int64\n",
      " 15  LinksInScriptTags    11054 non-null  int64\n",
      " 16  ServerFormHandler    11054 non-null  int64\n",
      " 17  InfoEmail            11054 non-null  int64\n",
      " 18  AbnormalURL          11054 non-null  int64\n",
      " 19  WebsiteForwarding    11054 non-null  int64\n",
      " 20  StatusBarCust        11054 non-null  int64\n",
      " 21  DisableRightClick    11054 non-null  int64\n",
      " 22  UsingPopupWindow     11054 non-null  int64\n",
      " 23  IframeRedirection    11054 non-null  int64\n",
      " 24  AgeofDomain          11054 non-null  int64\n",
      " 25  DNSRecording         11054 non-null  int64\n",
      " 26  WebsiteTraffic       11054 non-null  int64\n",
      " 27  PageRank             11054 non-null  int64\n",
      " 28  GoogleIndex          11054 non-null  int64\n",
      " 29  LinksPointingToPage  11054 non-null  int64\n",
      " 30  StatsReport          11054 non-null  int64\n",
      " 31  class                11054 non-null  int64\n",
      "dtypes: int64(32)\n",
      "memory usage: 2.7 MB\n"
     ]
    }
   ],
   "source": [
    "#Information about the dataset\n",
    "\n",
    "data.info()"
   ]
  },
  {
   "cell_type": "code",
   "execution_count": 11,
   "id": "18c1e021",
   "metadata": {},
   "outputs": [
    {
     "data": {
      "text/plain": [
       "Index                  11054\n",
       "UsingIP                    2\n",
       "LongURL                    3\n",
       "ShortURL                   2\n",
       "Symbol@                    2\n",
       "Redirecting//              2\n",
       "PrefixSuffix-              2\n",
       "SubDomains                 3\n",
       "HTTPS                      3\n",
       "DomainRegLen               2\n",
       "Favicon                    2\n",
       "NonStdPort                 2\n",
       "HTTPSDomainURL             2\n",
       "RequestURL                 2\n",
       "AnchorURL                  3\n",
       "LinksInScriptTags          3\n",
       "ServerFormHandler          3\n",
       "InfoEmail                  2\n",
       "AbnormalURL                2\n",
       "WebsiteForwarding          2\n",
       "StatusBarCust              2\n",
       "DisableRightClick          2\n",
       "UsingPopupWindow           2\n",
       "IframeRedirection          2\n",
       "AgeofDomain                2\n",
       "DNSRecording               2\n",
       "WebsiteTraffic             3\n",
       "PageRank                   2\n",
       "GoogleIndex                2\n",
       "LinksPointingToPage        3\n",
       "StatsReport                2\n",
       "class                      2\n",
       "dtype: int64"
      ]
     },
     "execution_count": 11,
     "metadata": {},
     "output_type": "execute_result"
    }
   ],
   "source": [
    "# nunique value in columns\n",
    "\n",
    "data.nunique()"
   ]
  },
  {
   "cell_type": "code",
   "execution_count": 12,
   "id": "0df0debc",
   "metadata": {},
   "outputs": [],
   "source": [
    "#droping index column\n",
    "\n",
    "data = data.drop(['Index'],axis = 1)"
   ]
  },
  {
   "cell_type": "code",
   "execution_count": 13,
   "id": "d4c7df9b",
   "metadata": {},
   "outputs": [
    {
     "data": {
      "text/html": [
       "<div>\n",
       "<style scoped>\n",
       "    .dataframe tbody tr th:only-of-type {\n",
       "        vertical-align: middle;\n",
       "    }\n",
       "\n",
       "    .dataframe tbody tr th {\n",
       "        vertical-align: top;\n",
       "    }\n",
       "\n",
       "    .dataframe thead th {\n",
       "        text-align: right;\n",
       "    }\n",
       "</style>\n",
       "<table border=\"1\" class=\"dataframe\">\n",
       "  <thead>\n",
       "    <tr style=\"text-align: right;\">\n",
       "      <th></th>\n",
       "      <th>count</th>\n",
       "      <th>mean</th>\n",
       "      <th>std</th>\n",
       "      <th>min</th>\n",
       "      <th>25%</th>\n",
       "      <th>50%</th>\n",
       "      <th>75%</th>\n",
       "      <th>max</th>\n",
       "    </tr>\n",
       "  </thead>\n",
       "  <tbody>\n",
       "    <tr>\n",
       "      <th>UsingIP</th>\n",
       "      <td>11054.0</td>\n",
       "      <td>0.313914</td>\n",
       "      <td>0.949495</td>\n",
       "      <td>-1.0</td>\n",
       "      <td>-1.0</td>\n",
       "      <td>1.0</td>\n",
       "      <td>1.0</td>\n",
       "      <td>1.0</td>\n",
       "    </tr>\n",
       "    <tr>\n",
       "      <th>LongURL</th>\n",
       "      <td>11054.0</td>\n",
       "      <td>-0.633345</td>\n",
       "      <td>0.765973</td>\n",
       "      <td>-1.0</td>\n",
       "      <td>-1.0</td>\n",
       "      <td>-1.0</td>\n",
       "      <td>-1.0</td>\n",
       "      <td>1.0</td>\n",
       "    </tr>\n",
       "    <tr>\n",
       "      <th>ShortURL</th>\n",
       "      <td>11054.0</td>\n",
       "      <td>0.738737</td>\n",
       "      <td>0.674024</td>\n",
       "      <td>-1.0</td>\n",
       "      <td>1.0</td>\n",
       "      <td>1.0</td>\n",
       "      <td>1.0</td>\n",
       "      <td>1.0</td>\n",
       "    </tr>\n",
       "    <tr>\n",
       "      <th>Symbol@</th>\n",
       "      <td>11054.0</td>\n",
       "      <td>0.700561</td>\n",
       "      <td>0.713625</td>\n",
       "      <td>-1.0</td>\n",
       "      <td>1.0</td>\n",
       "      <td>1.0</td>\n",
       "      <td>1.0</td>\n",
       "      <td>1.0</td>\n",
       "    </tr>\n",
       "    <tr>\n",
       "      <th>Redirecting//</th>\n",
       "      <td>11054.0</td>\n",
       "      <td>0.741632</td>\n",
       "      <td>0.670837</td>\n",
       "      <td>-1.0</td>\n",
       "      <td>1.0</td>\n",
       "      <td>1.0</td>\n",
       "      <td>1.0</td>\n",
       "      <td>1.0</td>\n",
       "    </tr>\n",
       "    <tr>\n",
       "      <th>PrefixSuffix-</th>\n",
       "      <td>11054.0</td>\n",
       "      <td>-0.734938</td>\n",
       "      <td>0.678165</td>\n",
       "      <td>-1.0</td>\n",
       "      <td>-1.0</td>\n",
       "      <td>-1.0</td>\n",
       "      <td>-1.0</td>\n",
       "      <td>1.0</td>\n",
       "    </tr>\n",
       "    <tr>\n",
       "      <th>SubDomains</th>\n",
       "      <td>11054.0</td>\n",
       "      <td>0.064049</td>\n",
       "      <td>0.817492</td>\n",
       "      <td>-1.0</td>\n",
       "      <td>-1.0</td>\n",
       "      <td>0.0</td>\n",
       "      <td>1.0</td>\n",
       "      <td>1.0</td>\n",
       "    </tr>\n",
       "    <tr>\n",
       "      <th>HTTPS</th>\n",
       "      <td>11054.0</td>\n",
       "      <td>0.251040</td>\n",
       "      <td>0.911856</td>\n",
       "      <td>-1.0</td>\n",
       "      <td>-1.0</td>\n",
       "      <td>1.0</td>\n",
       "      <td>1.0</td>\n",
       "      <td>1.0</td>\n",
       "    </tr>\n",
       "    <tr>\n",
       "      <th>DomainRegLen</th>\n",
       "      <td>11054.0</td>\n",
       "      <td>-0.336711</td>\n",
       "      <td>0.941651</td>\n",
       "      <td>-1.0</td>\n",
       "      <td>-1.0</td>\n",
       "      <td>-1.0</td>\n",
       "      <td>1.0</td>\n",
       "      <td>1.0</td>\n",
       "    </tr>\n",
       "    <tr>\n",
       "      <th>Favicon</th>\n",
       "      <td>11054.0</td>\n",
       "      <td>0.628551</td>\n",
       "      <td>0.777804</td>\n",
       "      <td>-1.0</td>\n",
       "      <td>1.0</td>\n",
       "      <td>1.0</td>\n",
       "      <td>1.0</td>\n",
       "      <td>1.0</td>\n",
       "    </tr>\n",
       "    <tr>\n",
       "      <th>NonStdPort</th>\n",
       "      <td>11054.0</td>\n",
       "      <td>0.728243</td>\n",
       "      <td>0.685350</td>\n",
       "      <td>-1.0</td>\n",
       "      <td>1.0</td>\n",
       "      <td>1.0</td>\n",
       "      <td>1.0</td>\n",
       "      <td>1.0</td>\n",
       "    </tr>\n",
       "    <tr>\n",
       "      <th>HTTPSDomainURL</th>\n",
       "      <td>11054.0</td>\n",
       "      <td>0.675231</td>\n",
       "      <td>0.737640</td>\n",
       "      <td>-1.0</td>\n",
       "      <td>1.0</td>\n",
       "      <td>1.0</td>\n",
       "      <td>1.0</td>\n",
       "      <td>1.0</td>\n",
       "    </tr>\n",
       "    <tr>\n",
       "      <th>RequestURL</th>\n",
       "      <td>11054.0</td>\n",
       "      <td>0.186720</td>\n",
       "      <td>0.982458</td>\n",
       "      <td>-1.0</td>\n",
       "      <td>-1.0</td>\n",
       "      <td>1.0</td>\n",
       "      <td>1.0</td>\n",
       "      <td>1.0</td>\n",
       "    </tr>\n",
       "    <tr>\n",
       "      <th>AnchorURL</th>\n",
       "      <td>11054.0</td>\n",
       "      <td>-0.076443</td>\n",
       "      <td>0.715116</td>\n",
       "      <td>-1.0</td>\n",
       "      <td>-1.0</td>\n",
       "      <td>0.0</td>\n",
       "      <td>0.0</td>\n",
       "      <td>1.0</td>\n",
       "    </tr>\n",
       "    <tr>\n",
       "      <th>LinksInScriptTags</th>\n",
       "      <td>11054.0</td>\n",
       "      <td>-0.118238</td>\n",
       "      <td>0.763933</td>\n",
       "      <td>-1.0</td>\n",
       "      <td>-1.0</td>\n",
       "      <td>0.0</td>\n",
       "      <td>0.0</td>\n",
       "      <td>1.0</td>\n",
       "    </tr>\n",
       "    <tr>\n",
       "      <th>ServerFormHandler</th>\n",
       "      <td>11054.0</td>\n",
       "      <td>-0.595712</td>\n",
       "      <td>0.759168</td>\n",
       "      <td>-1.0</td>\n",
       "      <td>-1.0</td>\n",
       "      <td>-1.0</td>\n",
       "      <td>-1.0</td>\n",
       "      <td>1.0</td>\n",
       "    </tr>\n",
       "    <tr>\n",
       "      <th>InfoEmail</th>\n",
       "      <td>11054.0</td>\n",
       "      <td>0.635788</td>\n",
       "      <td>0.771899</td>\n",
       "      <td>-1.0</td>\n",
       "      <td>1.0</td>\n",
       "      <td>1.0</td>\n",
       "      <td>1.0</td>\n",
       "      <td>1.0</td>\n",
       "    </tr>\n",
       "    <tr>\n",
       "      <th>AbnormalURL</th>\n",
       "      <td>11054.0</td>\n",
       "      <td>0.705446</td>\n",
       "      <td>0.708796</td>\n",
       "      <td>-1.0</td>\n",
       "      <td>1.0</td>\n",
       "      <td>1.0</td>\n",
       "      <td>1.0</td>\n",
       "      <td>1.0</td>\n",
       "    </tr>\n",
       "    <tr>\n",
       "      <th>WebsiteForwarding</th>\n",
       "      <td>11054.0</td>\n",
       "      <td>0.115705</td>\n",
       "      <td>0.319885</td>\n",
       "      <td>0.0</td>\n",
       "      <td>0.0</td>\n",
       "      <td>0.0</td>\n",
       "      <td>0.0</td>\n",
       "      <td>1.0</td>\n",
       "    </tr>\n",
       "    <tr>\n",
       "      <th>StatusBarCust</th>\n",
       "      <td>11054.0</td>\n",
       "      <td>0.762077</td>\n",
       "      <td>0.647516</td>\n",
       "      <td>-1.0</td>\n",
       "      <td>1.0</td>\n",
       "      <td>1.0</td>\n",
       "      <td>1.0</td>\n",
       "      <td>1.0</td>\n",
       "    </tr>\n",
       "    <tr>\n",
       "      <th>DisableRightClick</th>\n",
       "      <td>11054.0</td>\n",
       "      <td>0.913877</td>\n",
       "      <td>0.406009</td>\n",
       "      <td>-1.0</td>\n",
       "      <td>1.0</td>\n",
       "      <td>1.0</td>\n",
       "      <td>1.0</td>\n",
       "      <td>1.0</td>\n",
       "    </tr>\n",
       "    <tr>\n",
       "      <th>UsingPopupWindow</th>\n",
       "      <td>11054.0</td>\n",
       "      <td>0.613353</td>\n",
       "      <td>0.789845</td>\n",
       "      <td>-1.0</td>\n",
       "      <td>1.0</td>\n",
       "      <td>1.0</td>\n",
       "      <td>1.0</td>\n",
       "      <td>1.0</td>\n",
       "    </tr>\n",
       "    <tr>\n",
       "      <th>IframeRedirection</th>\n",
       "      <td>11054.0</td>\n",
       "      <td>0.816899</td>\n",
       "      <td>0.576807</td>\n",
       "      <td>-1.0</td>\n",
       "      <td>1.0</td>\n",
       "      <td>1.0</td>\n",
       "      <td>1.0</td>\n",
       "      <td>1.0</td>\n",
       "    </tr>\n",
       "    <tr>\n",
       "      <th>AgeofDomain</th>\n",
       "      <td>11054.0</td>\n",
       "      <td>0.061335</td>\n",
       "      <td>0.998162</td>\n",
       "      <td>-1.0</td>\n",
       "      <td>-1.0</td>\n",
       "      <td>1.0</td>\n",
       "      <td>1.0</td>\n",
       "      <td>1.0</td>\n",
       "    </tr>\n",
       "    <tr>\n",
       "      <th>DNSRecording</th>\n",
       "      <td>11054.0</td>\n",
       "      <td>0.377239</td>\n",
       "      <td>0.926158</td>\n",
       "      <td>-1.0</td>\n",
       "      <td>-1.0</td>\n",
       "      <td>1.0</td>\n",
       "      <td>1.0</td>\n",
       "      <td>1.0</td>\n",
       "    </tr>\n",
       "    <tr>\n",
       "      <th>WebsiteTraffic</th>\n",
       "      <td>11054.0</td>\n",
       "      <td>0.287407</td>\n",
       "      <td>0.827680</td>\n",
       "      <td>-1.0</td>\n",
       "      <td>0.0</td>\n",
       "      <td>1.0</td>\n",
       "      <td>1.0</td>\n",
       "      <td>1.0</td>\n",
       "    </tr>\n",
       "    <tr>\n",
       "      <th>PageRank</th>\n",
       "      <td>11054.0</td>\n",
       "      <td>-0.483626</td>\n",
       "      <td>0.875314</td>\n",
       "      <td>-1.0</td>\n",
       "      <td>-1.0</td>\n",
       "      <td>-1.0</td>\n",
       "      <td>1.0</td>\n",
       "      <td>1.0</td>\n",
       "    </tr>\n",
       "    <tr>\n",
       "      <th>GoogleIndex</th>\n",
       "      <td>11054.0</td>\n",
       "      <td>0.721549</td>\n",
       "      <td>0.692395</td>\n",
       "      <td>-1.0</td>\n",
       "      <td>1.0</td>\n",
       "      <td>1.0</td>\n",
       "      <td>1.0</td>\n",
       "      <td>1.0</td>\n",
       "    </tr>\n",
       "    <tr>\n",
       "      <th>LinksPointingToPage</th>\n",
       "      <td>11054.0</td>\n",
       "      <td>0.343948</td>\n",
       "      <td>0.569936</td>\n",
       "      <td>-1.0</td>\n",
       "      <td>0.0</td>\n",
       "      <td>0.0</td>\n",
       "      <td>1.0</td>\n",
       "      <td>1.0</td>\n",
       "    </tr>\n",
       "    <tr>\n",
       "      <th>StatsReport</th>\n",
       "      <td>11054.0</td>\n",
       "      <td>0.719739</td>\n",
       "      <td>0.694276</td>\n",
       "      <td>-1.0</td>\n",
       "      <td>1.0</td>\n",
       "      <td>1.0</td>\n",
       "      <td>1.0</td>\n",
       "      <td>1.0</td>\n",
       "    </tr>\n",
       "    <tr>\n",
       "      <th>class</th>\n",
       "      <td>11054.0</td>\n",
       "      <td>0.113986</td>\n",
       "      <td>0.993527</td>\n",
       "      <td>-1.0</td>\n",
       "      <td>-1.0</td>\n",
       "      <td>1.0</td>\n",
       "      <td>1.0</td>\n",
       "      <td>1.0</td>\n",
       "    </tr>\n",
       "  </tbody>\n",
       "</table>\n",
       "</div>"
      ],
      "text/plain": [
       "                       count      mean       std  min  25%  50%  75%  max\n",
       "UsingIP              11054.0  0.313914  0.949495 -1.0 -1.0  1.0  1.0  1.0\n",
       "LongURL              11054.0 -0.633345  0.765973 -1.0 -1.0 -1.0 -1.0  1.0\n",
       "ShortURL             11054.0  0.738737  0.674024 -1.0  1.0  1.0  1.0  1.0\n",
       "Symbol@              11054.0  0.700561  0.713625 -1.0  1.0  1.0  1.0  1.0\n",
       "Redirecting//        11054.0  0.741632  0.670837 -1.0  1.0  1.0  1.0  1.0\n",
       "PrefixSuffix-        11054.0 -0.734938  0.678165 -1.0 -1.0 -1.0 -1.0  1.0\n",
       "SubDomains           11054.0  0.064049  0.817492 -1.0 -1.0  0.0  1.0  1.0\n",
       "HTTPS                11054.0  0.251040  0.911856 -1.0 -1.0  1.0  1.0  1.0\n",
       "DomainRegLen         11054.0 -0.336711  0.941651 -1.0 -1.0 -1.0  1.0  1.0\n",
       "Favicon              11054.0  0.628551  0.777804 -1.0  1.0  1.0  1.0  1.0\n",
       "NonStdPort           11054.0  0.728243  0.685350 -1.0  1.0  1.0  1.0  1.0\n",
       "HTTPSDomainURL       11054.0  0.675231  0.737640 -1.0  1.0  1.0  1.0  1.0\n",
       "RequestURL           11054.0  0.186720  0.982458 -1.0 -1.0  1.0  1.0  1.0\n",
       "AnchorURL            11054.0 -0.076443  0.715116 -1.0 -1.0  0.0  0.0  1.0\n",
       "LinksInScriptTags    11054.0 -0.118238  0.763933 -1.0 -1.0  0.0  0.0  1.0\n",
       "ServerFormHandler    11054.0 -0.595712  0.759168 -1.0 -1.0 -1.0 -1.0  1.0\n",
       "InfoEmail            11054.0  0.635788  0.771899 -1.0  1.0  1.0  1.0  1.0\n",
       "AbnormalURL          11054.0  0.705446  0.708796 -1.0  1.0  1.0  1.0  1.0\n",
       "WebsiteForwarding    11054.0  0.115705  0.319885  0.0  0.0  0.0  0.0  1.0\n",
       "StatusBarCust        11054.0  0.762077  0.647516 -1.0  1.0  1.0  1.0  1.0\n",
       "DisableRightClick    11054.0  0.913877  0.406009 -1.0  1.0  1.0  1.0  1.0\n",
       "UsingPopupWindow     11054.0  0.613353  0.789845 -1.0  1.0  1.0  1.0  1.0\n",
       "IframeRedirection    11054.0  0.816899  0.576807 -1.0  1.0  1.0  1.0  1.0\n",
       "AgeofDomain          11054.0  0.061335  0.998162 -1.0 -1.0  1.0  1.0  1.0\n",
       "DNSRecording         11054.0  0.377239  0.926158 -1.0 -1.0  1.0  1.0  1.0\n",
       "WebsiteTraffic       11054.0  0.287407  0.827680 -1.0  0.0  1.0  1.0  1.0\n",
       "PageRank             11054.0 -0.483626  0.875314 -1.0 -1.0 -1.0  1.0  1.0\n",
       "GoogleIndex          11054.0  0.721549  0.692395 -1.0  1.0  1.0  1.0  1.0\n",
       "LinksPointingToPage  11054.0  0.343948  0.569936 -1.0  0.0  0.0  1.0  1.0\n",
       "StatsReport          11054.0  0.719739  0.694276 -1.0  1.0  1.0  1.0  1.0\n",
       "class                11054.0  0.113986  0.993527 -1.0 -1.0  1.0  1.0  1.0"
      ]
     },
     "execution_count": 13,
     "metadata": {},
     "output_type": "execute_result"
    }
   ],
   "source": [
    "#description of dataset\n",
    "\n",
    "data.describe().T"
   ]
  },
  {
   "cell_type": "markdown",
   "id": "48657bd4",
   "metadata": {},
   "source": [
    "data_set.append(9 OBSERVATIONS:\n",
    "1. There are 11054 instances and 31 fearures in dataset.\n",
    "2. Out of which 30 are independent features where as 1 is dependent feature.\n",
    "3. Each feature is in int datatype, so there is no need to use LabelEncoder.\n",
    "4. There is no outlier present in dataset.\n",
    "5. There is no missing value in dataset."
   ]
  },
  {
   "cell_type": "markdown",
   "id": "d1cda572",
   "metadata": {},
   "source": [
    "## 3. Visualizing the data:\n",
    "Few plots and graphs are displayed to find how the data is distributed and the how features are related to each other."
   ]
  },
  {
   "cell_type": "code",
   "execution_count": null,
   "id": "60aef83b",
   "metadata": {},
   "outputs": [],
   "source": []
  },
  {
   "cell_type": "code",
   "execution_count": null,
   "id": "5b0d89d0",
   "metadata": {},
   "outputs": [],
   "source": []
  },
  {
   "cell_type": "code",
   "execution_count": 14,
   "id": "1999dba3",
   "metadata": {},
   "outputs": [
    {
     "data": {
      "image/png": "[encoded data removed]",
      "text/plain": [
       "<Figure size 432x288 with 1 Axes>"
      ]
     },
     "metadata": {},
     "output_type": "display_data"
    }
   ],
   "source": [
    "# Phishing Count in pie chart\n",
    "\n",
    "data['class'].value_counts().plot(kind='pie',autopct='%1.2f%%')\n",
    "plt.title(\"Phishing Count\")\n",
    "plt.show()"
   ]
  },
  {
   "cell_type": "markdown",
   "id": "3eee8c08",
   "metadata": {},
   "source": [
    "## 4. Splitting the Data:\n",
    "The data is split into train & test sets, 80-20 split."
   ]
  },
  {
   "cell_type": "code",
   "execution_count": 15,
   "id": "f3d90a24",
   "metadata": {},
   "outputs": [],
   "source": [
    "# Splitting the dataset into dependant and independant fetature\n",
    "\n",
    "X = data.drop([\"class\"],axis =1)\n",
    "y = data[\"class\"]"
   ]
  },
  {
   "cell_type": "code",
   "execution_count": 16,
   "id": "9de941d7",
   "metadata": {},
   "outputs": [
    {
     "data": {
      "text/plain": [
       "((8843, 30), (8843,), (2211, 30), (2211,))"
      ]
     },
     "execution_count": 16,
     "metadata": {},
     "output_type": "execute_result"
    }
   ],
   "source": [
    "# Splitting the dataset into train and test sets: 80-20 split\n",
    "\n",
    "from sklearn.model_selection import train_test_split\n",
    "\n",
    "X_train, X_test, y_train, y_test = train_test_split(X, y, test_size = 0.2, random_state = 42)\n",
    "X_train.shape, y_train.shape, X_test.shape, y_test.shape"
   ]
  },
  {
   "cell_type": "markdown",
   "id": "1f1ae9dc",
   "metadata": {},
   "source": [
    "## 5. Model Building & Training:\n"
   ]
  },
  {
   "cell_type": "code",
   "execution_count": 17,
   "id": "55ac1416",
   "metadata": {},
   "outputs": [],
   "source": [
    "# Creating holders to store the model performance results\n",
    "ML_Model = []\n",
    "accuracy = []\n",
    "f1_score = []\n",
    "recall = []\n",
    "precision = []\n",
    "\n",
    "#function to call for storing the results\n",
    "def storeResults(model, a,b,c,d):\n",
    "  ML_Model.append(model)\n",
    "  accuracy.append(round(a, 3))\n",
    "  f1_score.append(round(b, 3))\n",
    "  recall.append(round(c, 3))\n",
    "  precision.append(round(d, 3))"
   ]
  },
  {
   "cell_type": "markdown",
   "id": "a8724a53",
   "metadata": {},
   "source": [
    "## 5.1. Logistic Regression\n",
    "\n",
    "Logistic regression predicts the output of a categorical dependent variable. Therefore the outcome must be a categorical or discrete value. Logistic Regression is much similar to the Linear Regression except that how they are used. Linear Regression is used for solving Regression problems, whereas Logistic regression is used for solving the classification problems."
   ]
  },
  {
   "cell_type": "code",
   "execution_count": 18,
   "id": "1aa0632f",
   "metadata": {},
   "outputs": [
    {
     "data": {
      "text/plain": [
       "LogisticRegression()"
      ]
     },
     "execution_count": 18,
     "metadata": {},
     "output_type": "execute_result"
    }
   ],
   "source": [
    "# Linear regression model \n",
    "from sklearn.linear_model import LogisticRegression\n",
    "#from sklearn.pipeline import Pipeline\n",
    "\n",
    "# instantiate the model\n",
    "log = LogisticRegression()\n",
    "\n",
    "# fit the model \n",
    "log.fit(X_train,y_train)"
   ]
  },
  {
   "cell_type": "code",
   "execution_count": 19,
   "id": "66af98cc",
   "metadata": {},
   "outputs": [],
   "source": [
    "#predicting the target value from the model for the samples\n",
    "\n",
    "y_train_log = log.predict(X_train)\n",
    "y_test_log = log.predict(X_test)"
   ]
  },
  {
   "cell_type": "code",
   "execution_count": 20,
   "id": "bd4f1e81",
   "metadata": {},
   "outputs": [
    {
     "name": "stdout",
     "output_type": "stream",
     "text": [
      "Logistic Regression : Accuracy on training Data: 0.927\n",
      "Logistic Regression : Accuracy on test Data: 0.934\n",
      "\n",
      "Logistic Regression : f1_score on training Data: 0.935\n",
      "Logistic Regression : f1_score on test Data: 0.941\n",
      "\n",
      "Logistic Regression : Recall on training Data: 0.943\n",
      "Logistic Regression : Recall on test Data: 0.953\n",
      "\n",
      "Logistic Regression : precision on training Data: 0.927\n",
      "Logistic Regression : precision on test Data: 0.930\n"
     ]
    }
   ],
   "source": [
    "#computing the accuracy, f1_score, Recall, precision of the model performance\n",
    "\n",
    "acc_train_log = metrics.accuracy_score(y_train,y_train_log)\n",
    "acc_test_log = metrics.accuracy_score(y_test,y_test_log)\n",
    "print(\"Logistic Regression : Accuracy on training Data: {:.3f}\".format(acc_train_log))\n",
    "print(\"Logistic Regression : Accuracy on test Data: {:.3f}\".format(acc_test_log))\n",
    "print()\n",
    "\n",
    "f1_score_train_log = metrics.f1_score(y_train,y_train_log)\n",
    "f1_score_test_log = metrics.f1_score(y_test,y_test_log)\n",
    "print(\"Logistic Regression : f1_score on training Data: {:.3f}\".format(f1_score_train_log))\n",
    "print(\"Logistic Regression : f1_score on test Data: {:.3f}\".format(f1_score_test_log))\n",
    "print()\n",
    "\n",
    "recall_score_train_log = metrics.recall_score(y_train,y_train_log)\n",
    "recall_score_test_log = metrics.recall_score(y_test,y_test_log)\n",
    "print(\"Logistic Regression : Recall on training Data: {:.3f}\".format(recall_score_train_log))\n",
    "print(\"Logistic Regression : Recall on test Data: {:.3f}\".format(recall_score_test_log))\n",
    "print()\n",
    "\n",
    "precision_score_train_log = metrics.precision_score(y_train,y_train_log)\n",
    "precision_score_test_log = metrics.precision_score(y_test,y_test_log)\n",
    "print(\"Logistic Regression : precision on training Data: {:.3f}\".format(precision_score_train_log))\n",
    "print(\"Logistic Regression : precision on test Data: {:.3f}\".format(precision_score_test_log))"
   ]
  },
  {
   "cell_type": "code",
   "execution_count": 21,
   "id": "314ae927",
   "metadata": {},
   "outputs": [
    {
     "name": "stdout",
     "output_type": "stream",
     "text": [
      "              precision    recall  f1-score   support\n",
      "\n",
      "          -1       0.94      0.91      0.92       976\n",
      "           1       0.93      0.95      0.94      1235\n",
      "\n",
      "    accuracy                           0.93      2211\n",
      "   macro avg       0.93      0.93      0.93      2211\n",
      "weighted avg       0.93      0.93      0.93      2211\n",
      "\n"
     ]
    }
   ],
   "source": [
    "#computing the classification report of the model\n",
    "\n",
    "print(metrics.classification_report(y_test, y_test_log))"
   ]
  },
  {
   "cell_type": "code",
   "execution_count": 22,
   "id": "e557df04",
   "metadata": {},
   "outputs": [],
   "source": [
    "#storing the results. The below mentioned order of parameter passing is important.\n",
    "\n",
    "storeResults('Logistic Regression',acc_test_log,f1_score_test_log,\n",
    "             recall_score_train_log,precision_score_train_log)"
   ]
  },
  {
   "cell_type": "markdown",
   "id": "94a3a5bf",
   "metadata": {},
   "source": [
    "## 5.2. K-Nearest Neighbors : Classifier\n",
    "\n",
    "K-Nearest Neighbour is one of the simplest Machine Learning algorithms based on Supervised Learning technique. K-NN algorithm assumes the similarity between the new case/data and available cases and put the new case into the category that is most similar to the available categories."
   ]
  },
  {
   "cell_type": "code",
   "execution_count": 23,
   "id": "fcdb78be",
   "metadata": {},
   "outputs": [
    {
     "data": {
      "text/plain": [
       "KNeighborsClassifier(n_neighbors=1)"
      ]
     },
     "execution_count": 23,
     "metadata": {},
     "output_type": "execute_result"
    }
   ],
   "source": [
    "# K-Nearest Neighbors Classifier model\n",
    "from sklearn.neighbors import KNeighborsClassifier\n",
    "\n",
    "# instantiate the model\n",
    "knn = KNeighborsClassifier(n_neighbors=1)\n",
    "\n",
    "# fit the model \n",
    "knn.fit(X_train,y_train)"
   ]
  },
  {
   "cell_type": "code",
   "execution_count": 24,
   "id": "269c61e7",
   "metadata": {},
   "outputs": [],
   "source": [
    "#predicting the target value from the model for the samples\n",
    "y_train_knn = knn.predict(X_train)\n",
    "y_test_knn = knn.predict(X_test)"
   ]
  },
  {
   "cell_type": "code",
   "execution_count": 25,
   "id": "77d9c3bf",
   "metadata": {},
   "outputs": [
    {
     "name": "stdout",
     "output_type": "stream",
     "text": [
      "K-Nearest Neighbors : Accuracy on training Data: 0.989\n",
      "K-Nearest Neighbors : Accuracy on test Data: 0.956\n",
      "\n",
      "K-Nearest Neighbors : f1_score on training Data: 0.990\n",
      "K-Nearest Neighbors : f1_score on test Data: 0.961\n",
      "\n",
      "K-Nearest Neighborsn : Recall on training Data: 0.991\n",
      "Logistic Regression : Recall on test Data: 0.962\n",
      "\n",
      "K-Nearest Neighbors : precision on training Data: 0.989\n",
      "K-Nearest Neighbors : precision on test Data: 0.960\n"
     ]
    }
   ],
   "source": [
    "#computing the accuracy,f1_score,Recall,precision of the model performance\n",
    "\n",
    "acc_train_knn = metrics.accuracy_score(y_train,y_train_knn)\n",
    "acc_test_knn = metrics.accuracy_score(y_test,y_test_knn)\n",
    "print(\"K-Nearest Neighbors : Accuracy on training Data: {:.3f}\".format(acc_train_knn))\n",
    "print(\"K-Nearest Neighbors : Accuracy on test Data: {:.3f}\".format(acc_test_knn))\n",
    "print()\n",
    "\n",
    "f1_score_train_knn = metrics.f1_score(y_train,y_train_knn)\n",
    "f1_score_test_knn = metrics.f1_score(y_test,y_test_knn)\n",
    "print(\"K-Nearest Neighbors : f1_score on training Data: {:.3f}\".format(f1_score_train_knn))\n",
    "print(\"K-Nearest Neighbors : f1_score on test Data: {:.3f}\".format(f1_score_test_knn))\n",
    "print()\n",
    "\n",
    "recall_score_train_knn = metrics.recall_score(y_train,y_train_knn)\n",
    "recall_score_test_knn = metrics.recall_score(y_test,y_test_knn)\n",
    "print(\"K-Nearest Neighborsn : Recall on training Data: {:.3f}\".format(recall_score_train_knn))\n",
    "print(\"Logistic Regression : Recall on test Data: {:.3f}\".format(recall_score_test_knn))\n",
    "print()\n",
    "\n",
    "precision_score_train_knn = metrics.precision_score(y_train,y_train_knn)\n",
    "precision_score_test_knn = metrics.precision_score(y_test,y_test_knn)\n",
    "print(\"K-Nearest Neighbors : precision on training Data: {:.3f}\".format(precision_score_train_knn))\n",
    "print(\"K-Nearest Neighbors : precision on test Data: {:.3f}\".format(precision_score_test_knn))"
   ]
  },
  {
   "cell_type": "code",
   "execution_count": 26,
   "id": "f6a6658f",
   "metadata": {},
   "outputs": [
    {
     "name": "stdout",
     "output_type": "stream",
     "text": [
      "              precision    recall  f1-score   support\n",
      "\n",
      "          -1       0.95      0.95      0.95       976\n",
      "           1       0.96      0.96      0.96      1235\n",
      "\n",
      "    accuracy                           0.96      2211\n",
      "   macro avg       0.96      0.96      0.96      2211\n",
      "weighted avg       0.96      0.96      0.96      2211\n",
      "\n"
     ]
    }
   ],
   "source": [
    "#computing the classification report of the model\n",
    "\n",
    "print(metrics.classification_report(y_test, y_test_knn))"
   ]
  },
  {
   "cell_type": "code",
   "execution_count": 27,
   "id": "d4dc5c1b",
   "metadata": {},
   "outputs": [
    {
     "data": {
      "image/png": "[encoded data removed]",
      "text/plain": [
       "<Figure size 432x288 with 1 Axes>"
      ]
     },
     "metadata": {
      "needs_background": "light"
     },
     "output_type": "display_data"
    }
   ],
   "source": [
    "training_accuracy = []\n",
    "test_accuracy = []\n",
    "# try max_depth from 1 to 20\n",
    "depth = range(1,20)\n",
    "for n in depth:\n",
    "    knn = KNeighborsClassifier(n_neighbors=n)\n",
    "\n",
    "    knn.fit(X_train, y_train)\n",
    "    # record training set accuracy\n",
    "    training_accuracy.append(knn.score(X_train, y_train))\n",
    "    # record generalization accuracy\n",
    "    test_accuracy.append(knn.score(X_test, y_test))\n",
    "    \n",
    "\n",
    "#plotting the training & testing accuracy for n_estimators from 1 to 20\n",
    "plt.plot(depth, training_accuracy, label=\"training accuracy\")\n",
    "plt.plot(depth, test_accuracy, label=\"test accuracy\")\n",
    "plt.ylabel(\"Accuracy\")  \n",
    "plt.xlabel(\"n_neighbors\")\n",
    "plt.legend();"
   ]
  },
  {
   "cell_type": "code",
   "execution_count": 28,
   "id": "19e5bf0c",
   "metadata": {},
   "outputs": [],
   "source": [
    "#storing the results. The below mentioned order of parameter passing is important.\n",
    "\n",
    "storeResults('K-Nearest Neighbors',acc_test_knn,f1_score_test_knn,\n",
    "             recall_score_train_knn,precision_score_train_knn)"
   ]
  },
  {
   "cell_type": "markdown",
   "id": "b8bc8b53",
   "metadata": {},
   "source": [
    "## 5.3. Support Vector Machine : Classifier\n",
    "\n",
    "Support Vector Machine or SVM is one of the most popular Supervised Learning algorithms, which is used for Classification as well as Regression problems. The goal of the SVM algorithm is to create the best line or decision boundary that can segregate n-dimensional space into classes so that we can easily put the new data point in the correct category in the future."
   ]
  },
  {
   "cell_type": "code",
   "execution_count": 29,
   "id": "be3cb194",
   "metadata": {},
   "outputs": [
    {
     "data": {
      "text/plain": [
       "GridSearchCV(estimator=SVC(),\n",
       "             param_grid={'gamma': [0.1], 'kernel': ['rbf', 'linear']})"
      ]
     },
     "execution_count": 29,
     "metadata": {},
     "output_type": "execute_result"
    }
   ],
   "source": [
    "# Support Vector Classifier model \n",
    "from sklearn.svm import SVC\n",
    "from sklearn.model_selection import GridSearchCV\n",
    "\n",
    "# defining parameter range\n",
    "param_grid = {'gamma': [0.1],'kernel': ['rbf','linear']}\n",
    "\n",
    "svc = GridSearchCV(SVC(), param_grid)\n",
    "\n",
    "# fitting the model for grid search\n",
    "svc.fit(X_train, y_train)\n"
   ]
  },
  {
   "cell_type": "code",
   "execution_count": 30,
   "id": "2b25eef4",
   "metadata": {},
   "outputs": [],
   "source": [
    "#predicting the target value from the model for the samples\n",
    "y_train_svc = svc.predict(X_train)\n",
    "y_test_svc = svc.predict(X_test)"
   ]
  },
  {
   "cell_type": "code",
   "execution_count": 31,
   "id": "079d4b39",
   "metadata": {},
   "outputs": [
    {
     "name": "stdout",
     "output_type": "stream",
     "text": [
      "Support Vector Machine : Accuracy on training Data: 0.969\n",
      "Support Vector Machine : Accuracy on test Data: 0.964\n",
      "\n",
      "Support Vector Machine : f1_score on training Data: 0.973\n",
      "Support Vector Machine : f1_score on test Data: 0.968\n",
      "\n",
      "Support Vector Machine : Recall on training Data: 0.980\n",
      "Support Vector Machine : Recall on test Data: 0.980\n",
      "\n",
      "Support Vector Machine : precision on training Data: 0.965\n",
      "Support Vector Machine : precision on test Data: 0.957\n"
     ]
    }
   ],
   "source": [
    "#computing the accuracy, f1_score, Recall, precision of the model performance\n",
    "\n",
    "acc_train_svc = metrics.accuracy_score(y_train,y_train_svc)\n",
    "acc_test_svc = metrics.accuracy_score(y_test,y_test_svc)\n",
    "print(\"Support Vector Machine : Accuracy on training Data: {:.3f}\".format(acc_train_svc))\n",
    "print(\"Support Vector Machine : Accuracy on test Data: {:.3f}\".format(acc_test_svc))\n",
    "print()\n",
    "\n",
    "f1_score_train_svc = metrics.f1_score(y_train,y_train_svc)\n",
    "f1_score_test_svc = metrics.f1_score(y_test,y_test_svc)\n",
    "print(\"Support Vector Machine : f1_score on training Data: {:.3f}\".format(f1_score_train_svc))\n",
    "print(\"Support Vector Machine : f1_score on test Data: {:.3f}\".format(f1_score_test_svc))\n",
    "print()\n",
    "\n",
    "recall_score_train_svc = metrics.recall_score(y_train,y_train_svc)\n",
    "recall_score_test_svc = metrics.recall_score(y_test,y_test_svc)\n",
    "print(\"Support Vector Machine : Recall on training Data: {:.3f}\".format(recall_score_train_svc))\n",
    "print(\"Support Vector Machine : Recall on test Data: {:.3f}\".format(recall_score_test_svc))\n",
    "print()\n",
    "\n",
    "precision_score_train_svc = metrics.precision_score(y_train,y_train_svc)\n",
    "precision_score_test_svc = metrics.precision_score(y_test,y_test_svc)\n",
    "print(\"Support Vector Machine : precision on training Data: {:.3f}\".format(precision_score_train_svc))\n",
    "print(\"Support Vector Machine : precision on test Data: {:.3f}\".format(precision_score_test_svc))"
   ]
  },
  {
   "cell_type": "code",
   "execution_count": 32,
   "id": "b80c577b",
   "metadata": {},
   "outputs": [
    {
     "name": "stdout",
     "output_type": "stream",
     "text": [
      "              precision    recall  f1-score   support\n",
      "\n",
      "          -1       0.97      0.94      0.96       976\n",
      "           1       0.96      0.98      0.97      1235\n",
      "\n",
      "    accuracy                           0.96      2211\n",
      "   macro avg       0.97      0.96      0.96      2211\n",
      "weighted avg       0.96      0.96      0.96      2211\n",
      "\n"
     ]
    }
   ],
   "source": [
    "#computing the classification report of the model\n",
    "\n",
    "print(metrics.classification_report(y_test, y_test_svc))"
   ]
  },
  {
   "cell_type": "code",
   "execution_count": 33,
   "id": "b82e2f70",
   "metadata": {},
   "outputs": [],
   "source": [
    "#storing the results. The below mentioned order of parameter passing is important.\n",
    "\n",
    "storeResults('Support Vector Machine',acc_test_svc,f1_score_test_svc,\n",
    "             recall_score_train_svc,precision_score_train_svc)"
   ]
  },
  {
   "cell_type": "markdown",
   "id": "8ba22f40",
   "metadata": {},
   "source": [
    "## 5.4. Naive Bayes : Classifier\n",
    "\n",
    "Naïve Bayes algorithm is a supervised learning algorithm, which is based on Bayes theorem and used for solving classification problems.It is mainly used in text, image classification that includes a high-dimensional training dataset. Naïve Bayes Classifier is one of the simple and most effective Classification algorithms which helps in building the fast machine learning models that can make quick predictions."
   ]
  },
  {
   "cell_type": "code",
   "execution_count": 34,
   "id": "69469f59",
   "metadata": {},
   "outputs": [
    {
     "data": {
      "text/plain": [
       "GaussianNB()"
      ]
     },
     "execution_count": 34,
     "metadata": {},
     "output_type": "execute_result"
    }
   ],
   "source": [
    "# Naive Bayes Classifier Model\n",
    "from sklearn.naive_bayes import GaussianNB\n",
    "from sklearn.pipeline import Pipeline\n",
    "\n",
    "# instantiate the model\n",
    "nb=  GaussianNB()\n",
    "\n",
    "# fit the model \n",
    "nb.fit(X_train,y_train)"
   ]
  },
  {
   "cell_type": "code",
   "execution_count": 35,
   "id": "d5af1028",
   "metadata": {},
   "outputs": [],
   "source": [
    "#predicting the target value from the model for the samples\n",
    "y_train_nb = nb.predict(X_train)\n",
    "y_test_nb = nb.predict(X_test)"
   ]
  },
  {
   "cell_type": "code",
   "execution_count": 36,
   "id": "63968c7a",
   "metadata": {},
   "outputs": [
    {
     "name": "stdout",
     "output_type": "stream",
     "text": [
      "Naive Bayes Classifier : Accuracy on training Data: 0.605\n",
      "Naive Bayes Classifier : Accuracy on test Data: 0.605\n",
      "\n",
      "Naive Bayes Classifier : f1_score on training Data: 0.451\n",
      "Naive Bayes Classifier : f1_score on test Data: 0.454\n",
      "\n",
      "Naive Bayes Classifier : Recall on training Data: 0.292\n",
      "Naive Bayes Classifier : Recall on test Data: 0.294\n",
      "\n",
      "Naive Bayes Classifier : precision on training Data: 0.997\n",
      "Naive Bayes Classifier : precision on test Data: 0.995\n"
     ]
    }
   ],
   "source": [
    "#computing the accuracy, f1_score, Recall, precision of the model performance\n",
    "\n",
    "acc_train_nb = metrics.accuracy_score(y_train,y_train_nb)\n",
    "acc_test_nb = metrics.accuracy_score(y_test,y_test_nb)\n",
    "print(\"Naive Bayes Classifier : Accuracy on training Data: {:.3f}\".format(acc_train_nb))\n",
    "print(\"Naive Bayes Classifier : Accuracy on test Data: {:.3f}\".format(acc_test_nb))\n",
    "print()\n",
    "\n",
    "f1_score_train_nb = metrics.f1_score(y_train,y_train_nb)\n",
    "f1_score_test_nb = metrics.f1_score(y_test,y_test_nb)\n",
    "print(\"Naive Bayes Classifier : f1_score on training Data: {:.3f}\".format(f1_score_train_nb))\n",
    "print(\"Naive Bayes Classifier : f1_score on test Data: {:.3f}\".format(f1_score_test_nb))\n",
    "print()\n",
    "\n",
    "recall_score_train_nb = metrics.recall_score(y_train,y_train_nb)\n",
    "recall_score_test_nb = metrics.recall_score(y_test,y_test_nb)\n",
    "print(\"Naive Bayes Classifier : Recall on training Data: {:.3f}\".format(recall_score_train_nb))\n",
    "print(\"Naive Bayes Classifier : Recall on test Data: {:.3f}\".format(recall_score_test_nb))\n",
    "print()\n",
    "\n",
    "precision_score_train_nb = metrics.precision_score(y_train,y_train_nb)\n",
    "precision_score_test_nb = metrics.precision_score(y_test,y_test_nb)\n",
    "print(\"Naive Bayes Classifier : precision on training Data: {:.3f}\".format(precision_score_train_nb))\n",
    "print(\"Naive Bayes Classifier : precision on test Data: {:.3f}\".format(precision_score_test_nb))"
   ]
  },
  {
   "cell_type": "code",
   "execution_count": 37,
   "id": "cb7d8f0b",
   "metadata": {},
   "outputs": [
    {
     "name": "stdout",
     "output_type": "stream",
     "text": [
      "              precision    recall  f1-score   support\n",
      "\n",
      "          -1       0.97      0.94      0.96       976\n",
      "           1       0.96      0.98      0.97      1235\n",
      "\n",
      "    accuracy                           0.96      2211\n",
      "   macro avg       0.97      0.96      0.96      2211\n",
      "weighted avg       0.96      0.96      0.96      2211\n",
      "\n"
     ]
    }
   ],
   "source": [
    "#computing the classification report of the model\n",
    "\n",
    "print(metrics.classification_report(y_test, y_test_svc))"
   ]
  },
  {
   "cell_type": "code",
   "execution_count": 38,
   "id": "51080f01",
   "metadata": {},
   "outputs": [],
   "source": [
    "#storing the results. The below mentioned order of parameter passing is important.\n",
    "\n",
    "storeResults('Naive Bayes Classifier',acc_test_nb,f1_score_test_nb,\n",
    "             recall_score_train_nb,precision_score_train_nb)"
   ]
  },
  {
   "cell_type": "markdown",
   "id": "bffea1bb",
   "metadata": {},
   "source": [
    "## 5.5. Decision Trees : Classifier\n",
    "\n",
    "Decision Tree is a Supervised learning technique that can be used for both classification and Regression problems, but mostly it is preferred for solving Classification problems. It is a tree-structured classifier, where internal nodes represent the features of a dataset, branches represent the decision rules and each leaf node represents the outcome."
   ]
  },
  {
   "cell_type": "code",
   "execution_count": 39,
   "id": "31379c27",
   "metadata": {},
   "outputs": [
    {
     "data": {
      "text/plain": [
       "DecisionTreeClassifier(max_depth=30)"
      ]
     },
     "execution_count": 39,
     "metadata": {},
     "output_type": "execute_result"
    }
   ],
   "source": [
    "# Decision Tree Classifier model \n",
    "from sklearn.tree import DecisionTreeClassifier\n",
    "\n",
    "# instantiate the model \n",
    "tree = DecisionTreeClassifier(max_depth=30)\n",
    "\n",
    "# fit the model \n",
    "tree.fit(X_train, y_train)"
   ]
  },
  {
   "cell_type": "code",
   "execution_count": 40,
   "id": "6c19c3ec",
   "metadata": {},
   "outputs": [],
   "source": [
    "#predicting the target value from the model for the samples\n",
    "\n",
    "y_train_tree = tree.predict(X_train)\n",
    "y_test_tree = tree.predict(X_test)"
   ]
  },
  {
   "cell_type": "code",
   "execution_count": 41,
   "id": "b577d598",
   "metadata": {},
   "outputs": [
    {
     "name": "stdout",
     "output_type": "stream",
     "text": [
      "Decision Tree : Accuracy on training Data: 0.991\n",
      "Decision Tree : Accuracy on test Data: 0.957\n",
      "\n",
      "Decision Tree : f1_score on training Data: 0.992\n",
      "Decision Tree : f1_score on test Data: 0.962\n",
      "\n",
      "Decision Tree : Recall on training Data: 0.991\n",
      "Decision Tree : Recall on test Data: 0.960\n",
      "\n",
      "Decision Tree : precision on training Data: 0.993\n",
      "Decision Tree : precision on test Data: 0.964\n"
     ]
    }
   ],
   "source": [
    "#computing the accuracy, f1_score, Recall, precision of the model performance\n",
    "\n",
    "acc_train_tree = metrics.accuracy_score(y_train,y_train_tree)\n",
    "acc_test_tree = metrics.accuracy_score(y_test,y_test_tree)\n",
    "print(\"Decision Tree : Accuracy on training Data: {:.3f}\".format(acc_train_tree))\n",
    "print(\"Decision Tree : Accuracy on test Data: {:.3f}\".format(acc_test_tree))\n",
    "print()\n",
    "\n",
    "f1_score_train_tree = metrics.f1_score(y_train,y_train_tree)\n",
    "f1_score_test_tree = metrics.f1_score(y_test,y_test_tree)\n",
    "print(\"Decision Tree : f1_score on training Data: {:.3f}\".format(f1_score_train_tree))\n",
    "print(\"Decision Tree : f1_score on test Data: {:.3f}\".format(f1_score_test_tree))\n",
    "print()\n",
    "\n",
    "recall_score_train_tree = metrics.recall_score(y_train,y_train_tree)\n",
    "recall_score_test_tree = metrics.recall_score(y_test,y_test_tree)\n",
    "print(\"Decision Tree : Recall on training Data: {:.3f}\".format(recall_score_train_tree))\n",
    "print(\"Decision Tree : Recall on test Data: {:.3f}\".format(recall_score_test_tree))\n",
    "print()\n",
    "\n",
    "precision_score_train_tree = metrics.precision_score(y_train,y_train_tree)\n",
    "precision_score_test_tree = metrics.precision_score(y_test,y_test_tree)\n",
    "print(\"Decision Tree : precision on training Data: {:.3f}\".format(precision_score_train_tree))\n",
    "print(\"Decision Tree : precision on test Data: {:.3f}\".format(precision_score_test_tree))"
   ]
  },
  {
   "cell_type": "code",
   "execution_count": 42,
   "id": "87bcb8b6",
   "metadata": {},
   "outputs": [
    {
     "name": "stdout",
     "output_type": "stream",
     "text": [
      "              precision    recall  f1-score   support\n",
      "\n",
      "          -1       0.95      0.95      0.95       976\n",
      "           1       0.96      0.96      0.96      1235\n",
      "\n",
      "    accuracy                           0.96      2211\n",
      "   macro avg       0.96      0.96      0.96      2211\n",
      "weighted avg       0.96      0.96      0.96      2211\n",
      "\n"
     ]
    }
   ],
   "source": [
    "#computing the classification report of the model\n",
    "\n",
    "print(metrics.classification_report(y_test, y_test_tree))"
   ]
  },
  {
   "cell_type": "code",
   "execution_count": 43,
   "id": "b0fdcdd9",
   "metadata": {},
   "outputs": [
    {
     "data": {
      "image/png": "[encoded data removed]",
      "text/plain": [
       "<Figure size 432x288 with 1 Axes>"
      ]
     },
     "metadata": {
      "needs_background": "light"
     },
     "output_type": "display_data"
    }
   ],
   "source": [
    "training_accuracy = []\n",
    "test_accuracy = []\n",
    "# try max_depth from 1 to 30\n",
    "depth = range(1,30)\n",
    "for n in depth:\n",
    "    tree_test = DecisionTreeClassifier(max_depth=n)\n",
    "\n",
    "    tree_test.fit(X_train, y_train)\n",
    "    # record training set accuracy\n",
    "    training_accuracy.append(tree_test.score(X_train, y_train))\n",
    "    # record generalization accuracy\n",
    "    test_accuracy.append(tree_test.score(X_test, y_test))\n",
    "    \n",
    "\n",
    "#plotting the training & testing accuracy for max_depth from 1 to 30\n",
    "plt.plot(depth, training_accuracy, label=\"training accuracy\")\n",
    "plt.plot(depth, test_accuracy, label=\"test accuracy\")\n",
    "plt.ylabel(\"Accuracy\")  \n",
    "plt.xlabel(\"max_depth\")\n",
    "plt.legend();"
   ]
  },
  {
   "cell_type": "code",
   "execution_count": 44,
   "id": "0f3b12b8",
   "metadata": {},
   "outputs": [],
   "source": [
    "#storing the results. The below mentioned order of parameter passing is important.\n",
    "\n",
    "storeResults('Decision Tree',acc_test_tree,f1_score_test_tree,\n",
    "             recall_score_train_tree,precision_score_train_tree)"
   ]
  },
  {
   "cell_type": "markdown",
   "id": "02637ba8",
   "metadata": {},
   "source": [
    "## 5.6. Random Forest : Classifier\n",
    "\n",
    "Random Forest is a popular machine learning algorithm that belongs to the supervised learning technique. It can be used for both Classification and Regression problems in ML. It is based on the concept of ensemble learning, which is a process of combining multiple classifiers to solve a complex problem and to improve the performance of the model."
   ]
  },
  {
   "cell_type": "code",
   "execution_count": 45,
   "id": "49272c25",
   "metadata": {},
   "outputs": [
    {
     "data": {
      "text/plain": [
       "RandomForestClassifier(n_estimators=10)"
      ]
     },
     "execution_count": 45,
     "metadata": {},
     "output_type": "execute_result"
    }
   ],
   "source": [
    "# Random Forest Classifier Model\n",
    "from sklearn.ensemble import RandomForestClassifier\n",
    "\n",
    "# instantiate the model\n",
    "forest = RandomForestClassifier(n_estimators=10)\n",
    "\n",
    "# fit the model \n",
    "forest.fit(X_train,y_train)"
   ]
  },
  {
   "cell_type": "code",
   "execution_count": 46,
   "id": "82c1f8b7",
   "metadata": {},
   "outputs": [],
   "source": [
    "#predicting the target value from the model for the samples\n",
    "y_train_forest = forest.predict(X_train)\n",
    "y_test_forest = forest.predict(X_test)"
   ]
  },
  {
   "cell_type": "code",
   "execution_count": 47,
   "id": "a41bd7f0",
   "metadata": {},
   "outputs": [
    {
     "name": "stdout",
     "output_type": "stream",
     "text": [
      "Random Forest : Accuracy on training Data: 0.990\n",
      "Random Forest : Accuracy on test Data: 0.965\n",
      "\n",
      "Random Forest : f1_score on training Data: 0.991\n",
      "Random Forest : f1_score on test Data: 0.969\n",
      "\n",
      "Random Forest : Recall on training Data: 0.993\n",
      "Random Forest : Recall on test Data: 0.972\n",
      "\n",
      "Random Forest : precision on training Data: 0.990\n",
      "Random Forest : precision on test Data: 0.964\n"
     ]
    }
   ],
   "source": [
    "#computing the accuracy, f1_score, Recall, precision of the model performance\n",
    "\n",
    "acc_train_forest = metrics.accuracy_score(y_train,y_train_forest)\n",
    "acc_test_forest = metrics.accuracy_score(y_test,y_test_forest)\n",
    "print(\"Random Forest : Accuracy on training Data: {:.3f}\".format(acc_train_forest))\n",
    "print(\"Random Forest : Accuracy on test Data: {:.3f}\".format(acc_test_forest))\n",
    "print()\n",
    "\n",
    "f1_score_train_forest = metrics.f1_score(y_train,y_train_forest)\n",
    "f1_score_test_forest = metrics.f1_score(y_test,y_test_forest)\n",
    "print(\"Random Forest : f1_score on training Data: {:.3f}\".format(f1_score_train_forest))\n",
    "print(\"Random Forest : f1_score on test Data: {:.3f}\".format(f1_score_test_forest))\n",
    "print()\n",
    "\n",
    "recall_score_train_forest = metrics.recall_score(y_train,y_train_forest)\n",
    "recall_score_test_forest = metrics.recall_score(y_test,y_test_forest)\n",
    "print(\"Random Forest : Recall on training Data: {:.3f}\".format(recall_score_train_forest))\n",
    "print(\"Random Forest : Recall on test Data: {:.3f}\".format(recall_score_test_forest))\n",
    "print()\n",
    "\n",
    "precision_score_train_forest = metrics.precision_score(y_train,y_train_forest)\n",
    "precision_score_test_forest = metrics.precision_score(y_test,y_test_tree)\n",
    "print(\"Random Forest : precision on training Data: {:.3f}\".format(precision_score_train_forest))\n",
    "print(\"Random Forest : precision on test Data: {:.3f}\".format(precision_score_test_forest))"
   ]
  },
  {
   "cell_type": "code",
   "execution_count": 48,
   "id": "fb33464b",
   "metadata": {},
   "outputs": [
    {
     "name": "stdout",
     "output_type": "stream",
     "text": [
      "              precision    recall  f1-score   support\n",
      "\n",
      "          -1       0.96      0.95      0.96       976\n",
      "           1       0.96      0.97      0.97      1235\n",
      "\n",
      "    accuracy                           0.96      2211\n",
      "   macro avg       0.96      0.96      0.96      2211\n",
      "weighted avg       0.96      0.96      0.96      2211\n",
      "\n"
     ]
    }
   ],
   "source": [
    "#computing the classification report of the model\n",
    "\n",
    "print(metrics.classification_report(y_test, y_test_forest))"
   ]
  },
  {
   "cell_type": "code",
   "execution_count": 49,
   "id": "4f10c481",
   "metadata": {},
   "outputs": [
    {
     "data": {
      "image/png": "[encoded data removed]",
      "text/plain": [
       "<Figure size 432x288 with 1 Axes>"
      ]
     },
     "metadata": {
      "needs_background": "light"
     },
     "output_type": "display_data"
    }
   ],
   "source": [
    "training_accuracy = []\n",
    "test_accuracy = []\n",
    "# try max_depth from 1 to 20\n",
    "depth = range(1,20)\n",
    "for n in depth:\n",
    "    forest_test =  RandomForestClassifier(n_estimators=n)\n",
    "\n",
    "    forest_test.fit(X_train, y_train)\n",
    "    # record training set accuracy\n",
    "    training_accuracy.append(forest_test.score(X_train, y_train))\n",
    "    # record generalization accuracy\n",
    "    test_accuracy.append(forest_test.score(X_test, y_test))\n",
    "    \n",
    "\n",
    "#plotting the training & testing accuracy for n_estimators from 1 to 20\n",
    "plt.figure(figsize=None)\n",
    "plt.plot(depth, training_accuracy, label=\"training accuracy\")\n",
    "plt.plot(depth, test_accuracy, label=\"test accuracy\")\n",
    "plt.ylabel(\"Accuracy\")  \n",
    "plt.xlabel(\"n_estimators\")\n",
    "plt.legend();"
   ]
  },
  {
   "cell_type": "code",
   "execution_count": 50,
   "id": "310a4d15",
   "metadata": {},
   "outputs": [],
   "source": [
    "#storing the results. The below mentioned order of parameter passing is important.\n",
    "\n",
    "storeResults('Random Forest',acc_test_forest,f1_score_test_forest,\n",
    "             recall_score_train_forest,precision_score_train_forest)"
   ]
  },
  {
   "cell_type": "markdown",
   "id": "08ba9a1a",
   "metadata": {},
   "source": [
    "## 5.7.Gradient Boosting Classifier\n",
    "Gradient boosting classifiers are a group of machine learning algorithms that combine many weak learning models together to create a strong predictive model. Decision trees are usually used when doing gradient boosting. Boosting algorithms play a crucial role in dealing with bias variance trade-off.  Unlike bagging algorithms, which only controls for high variance in a model, boosting controls both the aspects (bias & variance), and is considered to be more effective. "
   ]
  },
  {
   "cell_type": "code",
   "execution_count": 51,
   "id": "46672600",
   "metadata": {},
   "outputs": [
    {
     "data": {
      "text/plain": [
       "GradientBoostingClassifier(learning_rate=0.7, max_depth=4)"
      ]
     },
     "execution_count": 51,
     "metadata": {},
     "output_type": "execute_result"
    }
   ],
   "source": [
    "# Gradient Boosting Classifier Model\n",
    "from sklearn.ensemble import GradientBoostingClassifier\n",
    "\n",
    "# instantiate the model\n",
    "gbc = GradientBoostingClassifier(max_depth=4,learning_rate=0.7)\n",
    "\n",
    "# fit the model \n",
    "gbc.fit(X_train,y_train)"
   ]
  },
  {
   "cell_type": "code",
   "execution_count": 52,
   "id": "1abd4a9e",
   "metadata": {},
   "outputs": [],
   "source": [
    "#predicting the target value from the model for the samples\n",
    "y_train_gbc = gbc.predict(X_train)\n",
    "y_test_gbc = gbc.predict(X_test)"
   ]
  },
  {
   "cell_type": "code",
   "execution_count": 53,
   "id": "4c8ea93d",
   "metadata": {},
   "outputs": [
    {
     "name": "stdout",
     "output_type": "stream",
     "text": [
      "Gradient Boosting Classifier : Accuracy on training Data: 0.989\n",
      "Gradient Boosting Classifier : Accuracy on test Data: 0.974\n",
      "\n",
      "Gradient Boosting Classifier : f1_score on training Data: 0.990\n",
      "Gradient Boosting Classifier : f1_score on test Data: 0.977\n",
      "\n",
      "Gradient Boosting Classifier : Recall on training Data: 0.994\n",
      "Gradient Boosting Classifier : Recall on test Data: 0.989\n",
      "\n",
      "Gradient Boosting Classifier : precision on training Data: 0.986\n",
      "Gradient Boosting Classifier : precision on test Data: 0.966\n"
     ]
    }
   ],
   "source": [
    "#computing the accuracy, f1_score, Recall, precision of the model performance\n",
    "\n",
    "acc_train_gbc = metrics.accuracy_score(y_train,y_train_gbc)\n",
    "acc_test_gbc = metrics.accuracy_score(y_test,y_test_gbc)\n",
    "print(\"Gradient Boosting Classifier : Accuracy on training Data: {:.3f}\".format(acc_train_gbc))\n",
    "print(\"Gradient Boosting Classifier : Accuracy on test Data: {:.3f}\".format(acc_test_gbc))\n",
    "print()\n",
    "\n",
    "f1_score_train_gbc = metrics.f1_score(y_train,y_train_gbc)\n",
    "f1_score_test_gbc = metrics.f1_score(y_test,y_test_gbc)\n",
    "print(\"Gradient Boosting Classifier : f1_score on training Data: {:.3f}\".format(f1_score_train_gbc))\n",
    "print(\"Gradient Boosting Classifier : f1_score on test Data: {:.3f}\".format(f1_score_test_gbc))\n",
    "print()\n",
    "\n",
    "recall_score_train_gbc = metrics.recall_score(y_train,y_train_gbc)\n",
    "recall_score_test_gbc =  metrics.recall_score(y_test,y_test_gbc)\n",
    "print(\"Gradient Boosting Classifier : Recall on training Data: {:.3f}\".format(recall_score_train_gbc))\n",
    "print(\"Gradient Boosting Classifier : Recall on test Data: {:.3f}\".format(recall_score_test_gbc))\n",
    "print()\n",
    "\n",
    "precision_score_train_gbc = metrics.precision_score(y_train,y_train_gbc)\n",
    "precision_score_test_gbc = metrics.precision_score(y_test,y_test_gbc)\n",
    "print(\"Gradient Boosting Classifier : precision on training Data: {:.3f}\".format(precision_score_train_gbc))\n",
    "print(\"Gradient Boosting Classifier : precision on test Data: {:.3f}\".format(precision_score_test_gbc))"
   ]
  },
  {
   "cell_type": "code",
   "execution_count": 54,
   "id": "1f7959d8",
   "metadata": {},
   "outputs": [
    {
     "name": "stdout",
     "output_type": "stream",
     "text": [
      "              precision    recall  f1-score   support\n",
      "\n",
      "          -1       0.99      0.96      0.97       976\n",
      "           1       0.97      0.99      0.98      1235\n",
      "\n",
      "    accuracy                           0.97      2211\n",
      "   macro avg       0.98      0.97      0.97      2211\n",
      "weighted avg       0.97      0.97      0.97      2211\n",
      "\n"
     ]
    }
   ],
   "source": [
    "#computing the classification report of the model\n",
    "\n",
    "print(metrics.classification_report(y_test, y_test_gbc))"
   ]
  },
  {
   "cell_type": "code",
   "execution_count": 55,
   "id": "7e310444",
   "metadata": {},
   "outputs": [
    {
     "data": {
      "image/png": "[encoded data removed]",
      "text/plain": [
       "<Figure size 432x288 with 1 Axes>"
      ]
     },
     "metadata": {
      "needs_background": "light"
     },
     "output_type": "display_data"
    }
   ],
   "source": [
    "training_accuracy = []\n",
    "test_accuracy = []\n",
    "# try learning_rate from 0.1 to 0.9\n",
    "depth = range(1,10)\n",
    "for n in depth:\n",
    "    forest_test =  GradientBoostingClassifier(learning_rate = n*0.1)\n",
    "\n",
    "    forest_test.fit(X_train, y_train)\n",
    "    # record training set accuracy\n",
    "    training_accuracy.append(forest_test.score(X_train, y_train))\n",
    "    # record generalization accuracy\n",
    "    test_accuracy.append(forest_test.score(X_test, y_test))\n",
    "    \n",
    "\n",
    "#plotting the training & testing accuracy for n_estimators from 1 to 50\n",
    "plt.figure(figsize=None)\n",
    "plt.plot(depth, training_accuracy, label=\"training accuracy\")\n",
    "plt.plot(depth, test_accuracy, label=\"test accuracy\")\n",
    "plt.ylabel(\"Accuracy\")  \n",
    "plt.xlabel(\"learning_rate\")\n",
    "plt.legend();"
   ]
  },
  {
   "cell_type": "code",
   "execution_count": 56,
   "id": "2c07912f",
   "metadata": {},
   "outputs": [
    {
     "data": {
      "image/png": "[encoded data removed]",
      "text/plain": [
       "<Figure size 432x288 with 1 Axes>"
      ]
     },
     "metadata": {
      "needs_background": "light"
     },
     "output_type": "display_data"
    }
   ],
   "source": [
    "training_accuracy = []\n",
    "test_accuracy = []\n",
    "# try learning_rate from 0.1 to 0.9\n",
    "depth = range(1,10,1)\n",
    "for n in depth:\n",
    "    forest_test =  GradientBoostingClassifier(max_depth=n,learning_rate = 0.7)\n",
    "\n",
    "    forest_test.fit(X_train, y_train)\n",
    "    # record training set accuracy\n",
    "    training_accuracy.append(forest_test.score(X_train, y_train))\n",
    "    # record generalization accuracy\n",
    "    test_accuracy.append(forest_test.score(X_test, y_test))\n",
    "    \n",
    "\n",
    "#plotting the training & testing accuracy for n_estimators from 1 to 50\n",
    "plt.figure(figsize=None)\n",
    "plt.plot(depth, training_accuracy, label=\"training accuracy\")\n",
    "plt.plot(depth, test_accuracy, label=\"test accuracy\")\n",
    "plt.ylabel(\"Accuracy\")  \n",
    "plt.xlabel(\"max_depth\")\n",
    "plt.legend();"
   ]
  },
  {
   "cell_type": "code",
   "execution_count": 57,
   "id": "660fe8b1",
   "metadata": {},
   "outputs": [],
   "source": [
    "#storing the results. The below mentioned order of parameter passing is important.\n",
    "\n",
    "storeResults('Gradient Boosting Classifier',acc_test_gbc,f1_score_test_gbc,\n",
    "             recall_score_train_gbc,precision_score_train_gbc)"
   ]
  },
  {
   "cell_type": "markdown",
   "id": "c6820aa6",
   "metadata": {},
   "source": []
  },
  {
   "cell_type": "code",
   "execution_count": null,
   "id": "387e3c57",
   "metadata": {},
   "outputs": [],
   "source": []
  },
  {
   "cell_type": "code",
   "execution_count": null,
   "id": "2353cb47",
   "metadata": {},
   "outputs": [],
   "source": [
    "\n"
   ]
  },
  {
   "cell_type": "code",
   "execution_count": null,
   "id": "d6cc2cf5",
   "metadata": {},
   "outputs": [],
   "source": []
  },
  {
   "cell_type": "code",
   "execution_count": null,
   "id": "b88154b6",
   "metadata": {},
   "outputs": [],
   "source": []
  },
  {
   "cell_type": "code",
   "execution_count": null,
   "id": "e56e3618",
   "metadata": {},
   "outputs": [],
   "source": [
    "\n",
    "    "
   ]
  },
  {
   "cell_type": "code",
   "execution_count": null,
   "id": "53d13ba8",
   "metadata": {},
   "outputs": [],
   "source": [
    "\n"
   ]
  },
  {
   "cell_type": "code",
   "execution_count": null,
   "id": "080959b7",
   "metadata": {},
   "outputs": [],
   "source": []
  },
  {
   "cell_type": "markdown",
   "id": "c87f8a55",
   "metadata": {},
   "source": [
    "\n"
   ]
  },
  {
   "cell_type": "code",
   "execution_count": null,
   "id": "5bfc3ea7",
   "metadata": {},
   "outputs": [],
   "source": []
  },
  {
   "cell_type": "code",
   "execution_count": null,
   "id": "2cf7f1af",
   "metadata": {},
   "outputs": [],
   "source": []
  },
  {
   "cell_type": "code",
   "execution_count": null,
   "id": "d68aa680",
   "metadata": {},
   "outputs": [],
   "source": []
  },
  {
   "cell_type": "code",
   "execution_count": null,
   "id": "8983b248",
   "metadata": {},
   "outputs": [],
   "source": []
  },
  {
   "cell_type": "markdown",
   "id": "2cef57ca",
   "metadata": {},
   "source": [
    "## 6. Comparision of Models\n",
    "To compare the models performance, a dataframe is created. The columns of this dataframe are the lists created to store the results of the model."
   ]
  },
  {
   "cell_type": "code",
   "execution_count": 58,
   "id": "bcddf7ae",
   "metadata": {},
   "outputs": [],
   "source": [
    "#creating dataframe\n",
    "result = pd.DataFrame({ 'ML Model' : ML_Model,\n",
    "                        'Accuracy' : accuracy,\n",
    "                        'f1_score' : f1_score,\n",
    "                        'Recall'   : recall,\n",
    "                        'Precision': precision,\n",
    "                      })"
   ]
  },
  {
   "cell_type": "code",
   "execution_count": 59,
   "id": "6851e518",
   "metadata": {},
   "outputs": [
    {
     "data": {
      "text/html": [
       "<div>\n",
       "<style scoped>\n",
       "    .dataframe tbody tr th:only-of-type {\n",
       "        vertical-align: middle;\n",
       "    }\n",
       "\n",
       "    .dataframe tbody tr th {\n",
       "        vertical-align: top;\n",
       "    }\n",
       "\n",
       "    .dataframe thead th {\n",
       "        text-align: right;\n",
       "    }\n",
       "</style>\n",
       "<table border=\"1\" class=\"dataframe\">\n",
       "  <thead>\n",
       "    <tr style=\"text-align: right;\">\n",
       "      <th></th>\n",
       "      <th>ML Model</th>\n",
       "      <th>Accuracy</th>\n",
       "      <th>f1_score</th>\n",
       "      <th>Recall</th>\n",
       "      <th>Precision</th>\n",
       "    </tr>\n",
       "  </thead>\n",
       "  <tbody>\n",
       "    <tr>\n",
       "      <th>0</th>\n",
       "      <td>Logistic Regression</td>\n",
       "      <td>0.934</td>\n",
       "      <td>0.941</td>\n",
       "      <td>0.943</td>\n",
       "      <td>0.927</td>\n",
       "    </tr>\n",
       "    <tr>\n",
       "      <th>1</th>\n",
       "      <td>K-Nearest Neighbors</td>\n",
       "      <td>0.956</td>\n",
       "      <td>0.961</td>\n",
       "      <td>0.991</td>\n",
       "      <td>0.989</td>\n",
       "    </tr>\n",
       "    <tr>\n",
       "      <th>2</th>\n",
       "      <td>Support Vector Machine</td>\n",
       "      <td>0.964</td>\n",
       "      <td>0.968</td>\n",
       "      <td>0.980</td>\n",
       "      <td>0.965</td>\n",
       "    </tr>\n",
       "    <tr>\n",
       "      <th>3</th>\n",
       "      <td>Naive Bayes Classifier</td>\n",
       "      <td>0.605</td>\n",
       "      <td>0.454</td>\n",
       "      <td>0.292</td>\n",
       "      <td>0.997</td>\n",
       "    </tr>\n",
       "    <tr>\n",
       "      <th>4</th>\n",
       "      <td>Decision Tree</td>\n",
       "      <td>0.957</td>\n",
       "      <td>0.962</td>\n",
       "      <td>0.991</td>\n",
       "      <td>0.993</td>\n",
       "    </tr>\n",
       "    <tr>\n",
       "      <th>5</th>\n",
       "      <td>Random Forest</td>\n",
       "      <td>0.965</td>\n",
       "      <td>0.969</td>\n",
       "      <td>0.993</td>\n",
       "      <td>0.990</td>\n",
       "    </tr>\n",
       "    <tr>\n",
       "      <th>6</th>\n",
       "      <td>Gradient Boosting Classifier</td>\n",
       "      <td>0.974</td>\n",
       "      <td>0.977</td>\n",
       "      <td>0.994</td>\n",
       "      <td>0.986</td>\n",
       "    </tr>\n",
       "  </tbody>\n",
       "</table>\n",
       "</div>"
      ],
      "text/plain": [
       "                       ML Model  Accuracy  f1_score  Recall  Precision\n",
       "0           Logistic Regression     0.934     0.941   0.943      0.927\n",
       "1           K-Nearest Neighbors     0.956     0.961   0.991      0.989\n",
       "2        Support Vector Machine     0.964     0.968   0.980      0.965\n",
       "3        Naive Bayes Classifier     0.605     0.454   0.292      0.997\n",
       "4                 Decision Tree     0.957     0.962   0.991      0.993\n",
       "5                 Random Forest     0.965     0.969   0.993      0.990\n",
       "6  Gradient Boosting Classifier     0.974     0.977   0.994      0.986"
      ]
     },
     "execution_count": 59,
     "metadata": {},
     "output_type": "execute_result"
    }
   ],
   "source": [
    "# dispalying total result\n",
    "result"
   ]
  },
  {
   "cell_type": "code",
   "execution_count": 60,
   "id": "b5ec314b",
   "metadata": {},
   "outputs": [],
   "source": [
    "#Sorting the datafram on accuracy\n",
    "sorted_result=result.sort_values(by=['Accuracy', 'f1_score'],ascending=False).reset_index(drop=True)"
   ]
  },
  {
   "cell_type": "code",
   "execution_count": 61,
   "id": "bf364ad6",
   "metadata": {},
   "outputs": [
    {
     "data": {
      "text/html": [
       "<div>\n",
       "<style scoped>\n",
       "    .dataframe tbody tr th:only-of-type {\n",
       "        vertical-align: middle;\n",
       "    }\n",
       "\n",
       "    .dataframe tbody tr th {\n",
       "        vertical-align: top;\n",
       "    }\n",
       "\n",
       "    .dataframe thead th {\n",
       "        text-align: right;\n",
       "    }\n",
       "</style>\n",
       "<table border=\"1\" class=\"dataframe\">\n",
       "  <thead>\n",
       "    <tr style=\"text-align: right;\">\n",
       "      <th></th>\n",
       "      <th>ML Model</th>\n",
       "      <th>Accuracy</th>\n",
       "      <th>f1_score</th>\n",
       "      <th>Recall</th>\n",
       "      <th>Precision</th>\n",
       "    </tr>\n",
       "  </thead>\n",
       "  <tbody>\n",
       "    <tr>\n",
       "      <th>0</th>\n",
       "      <td>Gradient Boosting Classifier</td>\n",
       "      <td>0.974</td>\n",
       "      <td>0.977</td>\n",
       "      <td>0.994</td>\n",
       "      <td>0.986</td>\n",
       "    </tr>\n",
       "    <tr>\n",
       "      <th>1</th>\n",
       "      <td>Random Forest</td>\n",
       "      <td>0.965</td>\n",
       "      <td>0.969</td>\n",
       "      <td>0.993</td>\n",
       "      <td>0.990</td>\n",
       "    </tr>\n",
       "    <tr>\n",
       "      <th>2</th>\n",
       "      <td>Support Vector Machine</td>\n",
       "      <td>0.964</td>\n",
       "      <td>0.968</td>\n",
       "      <td>0.980</td>\n",
       "      <td>0.965</td>\n",
       "    </tr>\n",
       "    <tr>\n",
       "      <th>3</th>\n",
       "      <td>Decision Tree</td>\n",
       "      <td>0.957</td>\n",
       "      <td>0.962</td>\n",
       "      <td>0.991</td>\n",
       "      <td>0.993</td>\n",
       "    </tr>\n",
       "    <tr>\n",
       "      <th>4</th>\n",
       "      <td>K-Nearest Neighbors</td>\n",
       "      <td>0.956</td>\n",
       "      <td>0.961</td>\n",
       "      <td>0.991</td>\n",
       "      <td>0.989</td>\n",
       "    </tr>\n",
       "    <tr>\n",
       "      <th>5</th>\n",
       "      <td>Logistic Regression</td>\n",
       "      <td>0.934</td>\n",
       "      <td>0.941</td>\n",
       "      <td>0.943</td>\n",
       "      <td>0.927</td>\n",
       "    </tr>\n",
       "    <tr>\n",
       "      <th>6</th>\n",
       "      <td>Naive Bayes Classifier</td>\n",
       "      <td>0.605</td>\n",
       "      <td>0.454</td>\n",
       "      <td>0.292</td>\n",
       "      <td>0.997</td>\n",
       "    </tr>\n",
       "  </tbody>\n",
       "</table>\n",
       "</div>"
      ],
      "text/plain": [
       "                       ML Model  Accuracy  f1_score  Recall  Precision\n",
       "0  Gradient Boosting Classifier     0.974     0.977   0.994      0.986\n",
       "1                 Random Forest     0.965     0.969   0.993      0.990\n",
       "2        Support Vector Machine     0.964     0.968   0.980      0.965\n",
       "3                 Decision Tree     0.957     0.962   0.991      0.993\n",
       "4           K-Nearest Neighbors     0.956     0.961   0.991      0.989\n",
       "5           Logistic Regression     0.934     0.941   0.943      0.927\n",
       "6        Naive Bayes Classifier     0.605     0.454   0.292      0.997"
      ]
     },
     "execution_count": 61,
     "metadata": {},
     "output_type": "execute_result"
    }
   ],
   "source": [
    "# dispalying total result\n",
    "sorted_result"
   ]
  },
  {
   "cell_type": "markdown",
   "id": "26cd1618",
   "metadata": {},
   "source": [
    "## Storing Best Model"
   ]
  },
  {
   "cell_type": "code",
   "execution_count": 62,
   "id": "8280bba0",
   "metadata": {},
   "outputs": [
    {
     "data": {
      "text/plain": [
       "GradientBoostingClassifier(learning_rate=0.7, max_depth=4)"
      ]
     },
     "execution_count": 62,
     "metadata": {},
     "output_type": "execute_result"
    }
   ],
   "source": [
    "# instantiate the model\n",
    "gbc = GradientBoostingClassifier(max_depth=4,learning_rate=0.7)\n",
    "\n",
    "# fit the model \n",
    "gbc.fit(X_train,y_train)"
   ]
  },
  {
   "cell_type": "code",
   "execution_count": 63,
   "id": "b594a036",
   "metadata": {},
   "outputs": [
    {
     "data": {
      "image/png": "[encoded data removed]",
      "text/plain": [
       "<Figure size 648x504 with 1 Axes>"
      ]
     },
     "metadata": {
      "needs_background": "light"
     },
     "output_type": "display_data"
    }
   ],
   "source": [
    "#checking the feature improtance in the model\n",
    "plt.figure(figsize=(9,7))\n",
    "n_features = X_train.shape[1]\n",
    "plt.barh(range(n_features), gbc.feature_importances_, align='center')\n",
    "plt.yticks(np.arange(n_features), X_train.columns)\n",
    "\n",
    "plt.xlabel(\"Feature importance\")\n",
    "plt.ylabel(\"Feature\")\n",
    "plt.show()"
   ]
  },
  {
   "cell_type": "markdown",
   "id": "3de8abdd",
   "metadata": {},
   "source": [
    "## 7. Conclusion"
   ]
  },
  {
   "cell_type": "markdown",
   "id": "a4d99f22",
   "metadata": {},
   "source": [
    "\n",
    "The final conclusion on the Phishing dataset is that the some feature like \"HTTTPS\", \"AnchorURL\", \"WebsiteTraffic\" have more importance to classify URL is phishing URL or not. \n",
    "Gradient Boosting Classifier currectly classify URL upto 97.4% respective classes and hence reduces the chance of malicious attachments.\n"
   ]
  },
  {
   "cell_type": "markdown",
   "id": "911e1ccb",
   "metadata": {},
   "source": [
    "<h1>BUILDING GUI</h1>"
   ]
  },
  {
   "cell_type": "code",
   "execution_count": 73,
   "id": "7f3700ad",
   "metadata": {},
   "outputs": [],
   "source": [
    "#pip install whois"
   ]
  },
  {
   "cell_type": "code",
   "execution_count": 64,
   "id": "d602fdd5",
   "metadata": {},
   "outputs": [],
   "source": [
    "import ipaddress\n",
    "import re\n",
    "import urllib.request\n",
    "from bs4 import BeautifulSoup\n",
    "import socket\n",
    "import requests\n",
    "#from googlesearch import search\n",
    "import whois\n",
    "from datetime import date, datetime\n",
    "import time\n",
    "from dateutil.parser import parse as date_parse\n",
    "from urllib.parse import urlparse\n",
    "\n",
    "class FeatureExtraction:\n",
    "    features = []\n",
    "    def __init__(self,url):\n",
    "        self.features = []\n",
    "        self.url = url\n",
    "        self.domain = \"\"\n",
    "        self.whois_response = \"\"\n",
    "        self.urlparse = \"\"\n",
    "        self.response = \"\"\n",
    "        self.soup = \"\"\n",
    "\n",
    "        try:\n",
    "            self.response = requests.get(url)\n",
    "            self.soup = BeautifulSoup(response.text, 'html.parser')\n",
    "        except:\n",
    "            pass\n",
    "\n",
    "        try:\n",
    "            self.urlparse = urlparse(url)\n",
    "            self.domain = self.urlparse.netloc\n",
    "        except:\n",
    "            pass\n",
    "\n",
    "        try:\n",
    "            self.whois_response = whois.whois(self.domain)\n",
    "        except:\n",
    "            pass\n",
    "\n",
    "\n",
    "        \n",
    "\n",
    "        self.features.append(self.UsingIp())\n",
    "        self.features.append(self.longUrl())\n",
    "        self.features.append(self.shortUrl())\n",
    "        self.features.append(self.symbol())\n",
    "        self.features.append(self.redirecting())\n",
    "        self.features.append(self.prefixSuffix())\n",
    "        self.features.append(self.SubDomains())\n",
    "        self.features.append(self.Hppts())\n",
    "        self.features.append(self.DomainRegLen())\n",
    "        self.features.append(self.Favicon())\n",
    "        \n",
    "\n",
    "        self.features.append(self.NonStdPort())\n",
    "        self.features.append(self.HTTPSDomainURL())\n",
    "        self.features.append(self.RequestURL())\n",
    "        self.features.append(self.AnchorURL())\n",
    "        self.features.append(self.LinksInScriptTags())\n",
    "        self.features.append(self.ServerFormHandler())\n",
    "        self.features.append(self.InfoEmail())\n",
    "        self.features.append(self.AbnormalURL())\n",
    "        self.features.append(self.WebsiteForwarding())\n",
    "        self.features.append(self.StatusBarCust())\n",
    "\n",
    "        self.features.append(self.DisableRightClick())\n",
    "        self.features.append(self.UsingPopupWindow())\n",
    "        self.features.append(self.IframeRedirection())\n",
    "        self.features.append(self.AgeofDomain())\n",
    "        self.features.append(self.DNSRecording())\n",
    "        self.features.append(self.WebsiteTraffic())\n",
    "        self.features.append(self.PageRank())\n",
    "        self.features.append(self.GoogleIndex())\n",
    "        self.features.append(self.LinksPointingToPage())\n",
    "        self.features.append(self.StatsReport())\n",
    "\n",
    "\n",
    "     # 1.UsingIp\n",
    "    def UsingIp(self):\n",
    "        try:\n",
    "            ipaddress.ip_address(self.url)\n",
    "            return -1\n",
    "        except:\n",
    "            return 1\n",
    "\n",
    "    # 2.longUrl\n",
    "    def longUrl(self):\n",
    "        if len(self.url) < 54:\n",
    "            return 1\n",
    "        if len(self.url) >= 54 and len(self.url) <= 75:\n",
    "            return 0\n",
    "        return -1\n",
    "\n",
    "    # 3.shortUrl\n",
    "    def shortUrl(self):\n",
    "        match = re.search('bit\\.ly|goo\\.gl|shorte\\.st|go2l\\.ink|x\\.co|ow\\.ly|t\\.co|tinyurl|tr\\.im|is\\.gd|cli\\.gs|'\n",
    "                    'yfrog\\.com|migre\\.me|ff\\.im|tiny\\.cc|url4\\.eu|twit\\.ac|su\\.pr|twurl\\.nl|snipurl\\.com|'\n",
    "                    'short\\.to|BudURL\\.com|ping\\.fm|post\\.ly|Just\\.as|bkite\\.com|snipr\\.com|fic\\.kr|loopt\\.us|'\n",
    "                    'doiop\\.com|short\\.ie|kl\\.am|wp\\.me|rubyurl\\.com|om\\.ly|to\\.ly|bit\\.do|t\\.co|lnkd\\.in|'\n",
    "                    'db\\.tt|qr\\.ae|adf\\.ly|goo\\.gl|bitly\\.com|cur\\.lv|tinyurl\\.com|ow\\.ly|bit\\.ly|ity\\.im|'\n",
    "                    'q\\.gs|is\\.gd|po\\.st|bc\\.vc|twitthis\\.com|u\\.to|j\\.mp|buzurl\\.com|cutt\\.us|u\\.bb|yourls\\.org|'\n",
    "                    'x\\.co|prettylinkpro\\.com|scrnch\\.me|filoops\\.info|vzturl\\.com|qr\\.net|1url\\.com|tweez\\.me|v\\.gd|tr\\.im|link\\.zip\\.net', self.url)\n",
    "        if match:\n",
    "            return -1\n",
    "        return 1\n",
    "\n",
    "    # 4.Symbol@\n",
    "    def symbol(self):\n",
    "        if re.findall(\"@\",self.url):\n",
    "            return -1\n",
    "        return 1\n",
    "    \n",
    "    # 5.Redirecting//\n",
    "    def redirecting(self):\n",
    "        if self.url.rfind('//')>6:\n",
    "            return -1\n",
    "        return 1\n",
    "    \n",
    "    # 6.prefixSuffix\n",
    "    def prefixSuffix(self):\n",
    "        try:\n",
    "            match = re.findall('\\-', self.domain)\n",
    "            if match:\n",
    "                return -1\n",
    "            return 1\n",
    "        except:\n",
    "            return -1\n",
    "    \n",
    "    # 7.SubDomains\n",
    "    def SubDomains(self):\n",
    "        dot_count = len(re.findall(\"\\.\", self.url))\n",
    "        if dot_count == 1:\n",
    "            return 1\n",
    "        elif dot_count == 2:\n",
    "            return 0\n",
    "        return -1\n",
    "\n",
    "    # 8.HTTPS\n",
    "    def Hppts(self):\n",
    "        try:\n",
    "            https = self.urlparse.scheme\n",
    "            if 'https' in https:\n",
    "                return 1\n",
    "            return -1\n",
    "        except:\n",
    "            return 1\n",
    "\n",
    "    # 9.DomainRegLen\n",
    "    def DomainRegLen(self):\n",
    "        try:\n",
    "            expiration_date = self.whois_response.expiration_date\n",
    "            creation_date = self.whois_response.creation_date\n",
    "            try:\n",
    "                if(len(expiration_date)):\n",
    "                    expiration_date = expiration_date[0]\n",
    "            except:\n",
    "                pass\n",
    "            try:\n",
    "                if(len(creation_date)):\n",
    "                    creation_date = creation_date[0]\n",
    "            except:\n",
    "                pass\n",
    "\n",
    "            age = (expiration_date.year-creation_date.year)*12+ (expiration_date.month-creation_date.month)\n",
    "            if age >=12:\n",
    "                return 1\n",
    "            return -1\n",
    "        except:\n",
    "            return -1\n",
    "\n",
    "    # 10. Favicon\n",
    "    def Favicon(self):\n",
    "        try:\n",
    "            for head in self.soup.find_all('head'):\n",
    "                for head.link in self.soup.find_all('link', href=True):\n",
    "                    dots = [x.start(0) for x in re.finditer('\\.', head.link['href'])]\n",
    "                    if self.url in head.link['href'] or len(dots) == 1 or domain in head.link['href']:\n",
    "                        return 1\n",
    "            return -1\n",
    "        except:\n",
    "            return -1\n",
    "\n",
    "    # 11. NonStdPort\n",
    "    def NonStdPort(self):\n",
    "        try:\n",
    "            port = self.domain.split(\":\")\n",
    "            if len(port)>1:\n",
    "                return -1\n",
    "            return 1\n",
    "        except:\n",
    "            return -1\n",
    "\n",
    "    # 12. HTTPSDomainURL\n",
    "    def HTTPSDomainURL(self):\n",
    "        try:\n",
    "            if 'https' in self.domain:\n",
    "                return -1\n",
    "            return 1\n",
    "        except:\n",
    "            return -1\n",
    "    \n",
    "    # 13. RequestURL\n",
    "    def RequestURL(self):\n",
    "        try:\n",
    "            for img in self.soup.find_all('img', src=True):\n",
    "                dots = [x.start(0) for x in re.finditer('\\.', img['src'])]\n",
    "                if self.url in img['src'] or self.domain in img['src'] or len(dots) == 1:\n",
    "                    success = success + 1\n",
    "                i = i+1\n",
    "\n",
    "            for audio in self.soup.find_all('audio', src=True):\n",
    "                dots = [x.start(0) for x in re.finditer('\\.', audio['src'])]\n",
    "                if self.url in audio['src'] or self.domain in audio['src'] or len(dots) == 1:\n",
    "                    success = success + 1\n",
    "                i = i+1\n",
    "\n",
    "            for embed in self.soup.find_all('embed', src=True):\n",
    "                dots = [x.start(0) for x in re.finditer('\\.', embed['src'])]\n",
    "                if self.url in embed['src'] or self.domain in embed['src'] or len(dots) == 1:\n",
    "                    success = success + 1\n",
    "                i = i+1\n",
    "\n",
    "            for iframe in self.soup.find_all('iframe', src=True):\n",
    "                dots = [x.start(0) for x in re.finditer('\\.', iframe['src'])]\n",
    "                if self.url in iframe['src'] or self.domain in iframe['src'] or len(dots) == 1:\n",
    "                    success = success + 1\n",
    "                i = i+1\n",
    "\n",
    "            try:\n",
    "                percentage = success/float(i) * 100\n",
    "                if percentage < 22.0:\n",
    "                    return 1\n",
    "                elif((percentage >= 22.0) and (percentage < 61.0)):\n",
    "                    return 0\n",
    "                else:\n",
    "                    return -1\n",
    "            except:\n",
    "                return 0\n",
    "        except:\n",
    "            return -1\n",
    "    \n",
    "    # 14. AnchorURL\n",
    "    def AnchorURL(self):\n",
    "        try:\n",
    "            i,unsafe = 0,0\n",
    "            for a in self.soup.find_all('a', href=True):\n",
    "                if \"#\" in a['href'] or \"javascript\" in a['href'].lower() or \"mailto\" in a['href'].lower() or not (url in a['href'] or self.domain in a['href']):\n",
    "                    unsafe = unsafe + 1\n",
    "                i = i + 1\n",
    "\n",
    "            try:\n",
    "                percentage = unsafe / float(i) * 100\n",
    "                if percentage < 31.0:\n",
    "                    return 1\n",
    "                elif ((percentage >= 31.0) and (percentage < 67.0)):\n",
    "                    return 0\n",
    "                else:\n",
    "                    return -1\n",
    "            except:\n",
    "                return -1\n",
    "\n",
    "        except:\n",
    "            return -1\n",
    "\n",
    "    # 15. LinksInScriptTags\n",
    "    def LinksInScriptTags(self):\n",
    "        try:\n",
    "            i,success = 0,0\n",
    "        \n",
    "            for link in self.soup.find_all('link', href=True):\n",
    "                dots = [x.start(0) for x in re.finditer('\\.', link['href'])]\n",
    "                if self.url in link['href'] or self.domain in link['href'] or len(dots) == 1:\n",
    "                    success = success + 1\n",
    "                i = i+1\n",
    "\n",
    "            for script in self.soup.find_all('script', src=True):\n",
    "                dots = [x.start(0) for x in re.finditer('\\.', script['src'])]\n",
    "                if self.url in script['src'] or self.domain in script['src'] or len(dots) == 1:\n",
    "                    success = success + 1\n",
    "                i = i+1\n",
    "\n",
    "            try:\n",
    "                percentage = success / float(i) * 100\n",
    "                if percentage < 17.0:\n",
    "                    return 1\n",
    "                elif((percentage >= 17.0) and (percentage < 81.0)):\n",
    "                    return 0\n",
    "                else:\n",
    "                    return -1\n",
    "            except:\n",
    "                return 0\n",
    "        except:\n",
    "            return -1\n",
    "\n",
    "    # 16. ServerFormHandler\n",
    "    def ServerFormHandler(self):\n",
    "        try:\n",
    "            if len(self.soup.find_all('form', action=True))==0:\n",
    "                return 1\n",
    "            else :\n",
    "                for form in self.soup.find_all('form', action=True):\n",
    "                    if form['action'] == \"\" or form['action'] == \"about:blank\":\n",
    "                        return -1\n",
    "                    elif self.url not in form['action'] and self.domain not in form['action']:\n",
    "                        return 0\n",
    "                    else:\n",
    "                        return 1\n",
    "        except:\n",
    "            return -1\n",
    "\n",
    "    # 17. InfoEmail\n",
    "    def InfoEmail(self):\n",
    "        try:\n",
    "            if re.findall(r\"[mail\\(\\)|mailto:?]\", self.soap):\n",
    "                return -1\n",
    "            else:\n",
    "                return 1\n",
    "        except:\n",
    "            return -1\n",
    "\n",
    "    # 18. AbnormalURL\n",
    "    def AbnormalURL(self):\n",
    "        try:\n",
    "            if self.response.text == self.whois_response:\n",
    "                return 1\n",
    "            else:\n",
    "                return -1\n",
    "        except:\n",
    "            return -1\n",
    "\n",
    "    # 19. WebsiteForwarding\n",
    "    def WebsiteForwarding(self):\n",
    "        try:\n",
    "            if len(self.response.history) <= 1:\n",
    "                return 1\n",
    "            elif len(self.response.history) <= 4:\n",
    "                return 0\n",
    "            else:\n",
    "                return -1\n",
    "        except:\n",
    "             return -1\n",
    "\n",
    "    # 20. StatusBarCust\n",
    "    def StatusBarCust(self):\n",
    "        try:\n",
    "            if re.findall(\"<script>.+onmouseover.+</script>\", self.response.text):\n",
    "                return 1\n",
    "            else:\n",
    "                return -1\n",
    "        except:\n",
    "             return -1\n",
    "\n",
    "    # 21. DisableRightClick\n",
    "    def DisableRightClick(self):\n",
    "        try:\n",
    "            if re.findall(r\"event.button ?== ?2\", self.response.text):\n",
    "                return 1\n",
    "            else:\n",
    "                return -1\n",
    "        except:\n",
    "             return -1\n",
    "\n",
    "    # 22. UsingPopupWindow\n",
    "    def UsingPopupWindow(self):\n",
    "        try:\n",
    "            if re.findall(r\"alert\\(\", self.response.text):\n",
    "                return 1\n",
    "            else:\n",
    "                return -1\n",
    "        except:\n",
    "             return -1\n",
    "\n",
    "    # 23. IframeRedirection\n",
    "    def IframeRedirection(self):\n",
    "        try:\n",
    "            if re.findall(r\"[<iframe>|<frameBorder>]\", self.response.text):\n",
    "                return 1\n",
    "            else:\n",
    "                return -1\n",
    "        except:\n",
    "             return -1\n",
    "\n",
    "    # 24. AgeofDomain\n",
    "    def AgeofDomain(self):\n",
    "        try:\n",
    "            creation_date = self.whois_response.creation_date\n",
    "            try:\n",
    "                if(len(creation_date)):\n",
    "                    creation_date = creation_date[0]\n",
    "            except:\n",
    "                pass\n",
    "\n",
    "            today  = date.today()\n",
    "            age = (today.year-creation_date.year)*12+(today.month-creation_date.month)\n",
    "            if age >=6:\n",
    "                return 1\n",
    "            return -1\n",
    "        except:\n",
    "            return -1\n",
    "\n",
    "    # 25. DNSRecording    \n",
    "    def DNSRecording(self):\n",
    "        try:\n",
    "            creation_date = self.whois_response.creation_date\n",
    "            try:\n",
    "                if(len(creation_date)):\n",
    "                    creation_date = creation_date[0]\n",
    "            except:\n",
    "                pass\n",
    "\n",
    "            today  = date.today()\n",
    "            age = (today.year-creation_date.year)*12+(today.month-creation_date.month)\n",
    "            if age >=6:\n",
    "                return 1\n",
    "            return -1\n",
    "        except:\n",
    "            return -1\n",
    "\n",
    "    # 26. WebsiteTraffic   \n",
    "    def WebsiteTraffic(self):\n",
    "        try:\n",
    "            rank = BeautifulSoup(urllib.request.urlopen(\"http://data.alexa.com/data?cli=10&dat=s&url=\" + url).read(), \"xml\").find(\"REACH\")['RANK']\n",
    "            if (int(rank) < 100000):\n",
    "                return 1\n",
    "            return 0\n",
    "        except :\n",
    "            return -1\n",
    "\n",
    "    # 27. PageRank\n",
    "    def PageRank(self):\n",
    "        try:\n",
    "            prank_checker_response = requests.post(\"https://www.checkpagerank.net/index.php\", {\"name\": self.domain})\n",
    "\n",
    "            global_rank = int(re.findall(r\"Global Rank: ([0-9]+)\", rank_checker_response.text)[0])\n",
    "            if global_rank > 0 and global_rank < 100000:\n",
    "                return 1\n",
    "            return -1\n",
    "        except:\n",
    "            return -1\n",
    "            \n",
    "\n",
    "    # 28. GoogleIndex\n",
    "    def GoogleIndex(self):\n",
    "        try:\n",
    "            site = search(self.url, 5)\n",
    "            if site:\n",
    "                return 1\n",
    "            else:\n",
    "                return -1\n",
    "        except:\n",
    "            return 1\n",
    "\n",
    "    # 29. LinksPointingToPage\n",
    "    def LinksPointingToPage(self):\n",
    "        try:\n",
    "            number_of_links = len(re.findall(r\"<a href=\", self.response.text))\n",
    "            if number_of_links == 0:\n",
    "                return 1\n",
    "            elif number_of_links <= 2:\n",
    "                return 0\n",
    "            else:\n",
    "                return -1\n",
    "        except:\n",
    "            return -1\n",
    "\n",
    "    # 30. StatsReport\n",
    "    def StatsReport(self):\n",
    "        try:\n",
    "            url_match = re.search(\n",
    "        'at\\.ua|usa\\.cc|baltazarpresentes\\.com\\.br|pe\\.hu|esy\\.es|hol\\.es|sweddy\\.com|myjino\\.ru|96\\.lt|ow\\.ly', url)\n",
    "            ip_address = socket.gethostbyname(self.domain)\n",
    "            ip_match = re.search('146\\.112\\.61\\.108|213\\.174\\.157\\.151|121\\.50\\.168\\.88|192\\.185\\.217\\.116|78\\.46\\.211\\.158|181\\.174\\.165\\.13|46\\.242\\.145\\.103|121\\.50\\.168\\.40|83\\.125\\.22\\.219|46\\.242\\.145\\.98|'\n",
    "                                '107\\.151\\.148\\.44|107\\.151\\.148\\.107|64\\.70\\.19\\.203|199\\.184\\.144\\.27|107\\.151\\.148\\.108|107\\.151\\.148\\.109|119\\.28\\.52\\.61|54\\.83\\.43\\.69|52\\.69\\.166\\.231|216\\.58\\.192\\.225|'\n",
    "                                '118\\.184\\.25\\.86|67\\.208\\.74\\.71|23\\.253\\.126\\.58|104\\.239\\.157\\.210|175\\.126\\.123\\.219|141\\.8\\.224\\.221|10\\.10\\.10\\.10|43\\.229\\.108\\.32|103\\.232\\.215\\.140|69\\.172\\.201\\.153|'\n",
    "                                '216\\.218\\.185\\.162|54\\.225\\.104\\.146|103\\.243\\.24\\.98|199\\.59\\.243\\.120|31\\.170\\.160\\.61|213\\.19\\.128\\.77|62\\.113\\.226\\.131|208\\.100\\.26\\.234|195\\.16\\.127\\.102|195\\.16\\.127\\.157|'\n",
    "                                '34\\.196\\.13\\.28|103\\.224\\.212\\.222|172\\.217\\.4\\.225|54\\.72\\.9\\.51|192\\.64\\.147\\.141|198\\.200\\.56\\.183|23\\.253\\.164\\.103|52\\.48\\.191\\.26|52\\.214\\.197\\.72|87\\.98\\.255\\.18|209\\.99\\.17\\.27|'\n",
    "                                '216\\.38\\.62\\.18|104\\.130\\.124\\.96|47\\.89\\.58\\.141|78\\.46\\.211\\.158|54\\.86\\.225\\.156|54\\.82\\.156\\.19|37\\.157\\.192\\.102|204\\.11\\.56\\.48|110\\.34\\.231\\.42', ip_address)\n",
    "            if url_match:\n",
    "                return -1\n",
    "            elif ip_match:\n",
    "                return -1\n",
    "            return 1\n",
    "        except:\n",
    "            return 1\n",
    "    \n",
    "    def getFeaturesList(self):\n",
    "        return self.features\n"
   ]
  },
  {
   "cell_type": "code",
   "execution_count": 65,
   "id": "b573bf3c",
   "metadata": {
    "scrolled": true
   },
   "outputs": [
    {
     "name": "stdout",
     "output_type": "stream",
     "text": [
      "Running on local URL:  http://127.0.0.1:7860\n",
      "\n",
      "To create a public link, set `share=True` in `launch()`.\n"
     ]
    },
    {
     "data": {
      "text/html": [
       "<div><iframe src=\"http://127.0.0.1:7860/\" width=\"900\" height=\"500\" allow=\"autoplay; camera; microphone; clipboard-read; clipboard-write;\" frameborder=\"0\" allowfullscreen></iframe></div>"
      ],
      "text/plain": [
       "<IPython.core.display.HTML object>"
      ]
     },
     "metadata": {},
     "output_type": "display_data"
    },
    {
     "data": {
      "text/plain": [
       "(<gradio.routes.App at 0x24f53433310>, 'http://127.0.0.1:7860/', None)"
      ]
     },
     "execution_count": 65,
     "metadata": {},
     "output_type": "execute_result"
    }
   ],
   "source": [
    "import webbrowser\n",
    "from colorama import Fore, Back, Style\n",
    "  \n",
    "\n",
    "def gui(URL):\n",
    "    instance=FeatureExtraction(URL)\n",
    "    #print(instance.getFeaturesList())\n",
    "    x=instance.getFeaturesList()\n",
    "    features = np.array(x)\n",
    "    new = features.reshape(1,-1)\n",
    "    prediction=gbc.predict(new)\n",
    "    if prediction==1:\n",
    "        webbrowser.open(URL)\n",
    "        return \"Safe Website\"\n",
    "    else:\n",
    "        return \"Unsafe Website - Proceed at your own risk\"\n",
    "    \n",
    "\n",
    "it1=gr.Interface(fn=gui,inputs=gr.Textbox(placeholder=\"Enter URL here...\",label=\"URL\"),outputs=gr.Textbox(placeholder=\"Waiting for Result...\",label=\"RESULT\"),allow_flagging=\"never\",title=\"CAUGHT!\",description=\"<h3><center>A MALICIOUS URL detecting tool made using machine learning algorithms and gradio library.It classifies a URL as safe or unsafe based on certain parameters.</center></h3>\",article=\"MADE BY:-<br>ANANYA S - PES2UG20CS047<br>ADITI BK - PES2UG20CS020<br>ANANYA PRABHAKAR - PES2UG20CS046<br>ANISH CHEREKAR - PES2UG20CS052\",examples=[\"https://www.kaggle.com/datasets/eswarchandt/phishing-website-detector\",\"g00gle.com\"])\n",
    "it1.launch(share=False)"
   ]
  },
  {
   "cell_type": "code",
   "execution_count": 79,
   "id": "17366ca7",
   "metadata": {
    "scrolled": false
   },
   "outputs": [],
   "source": []
  },
  {
   "cell_type": "code",
   "execution_count": null,
   "id": "427c3765",
   "metadata": {},
   "outputs": [],
   "source": []
  }
 ],
 "metadata": {
  "kernelspec": {
   "display_name": "Python 3 (ipykernel)",
   "language": "python",
   "name": "python3"
  },
  "language_info": {
   "codemirror_mode": {
    "name": "ipython",
    "version": 3
   },
   "file_extension": ".py",
   "mimetype": "text/x-python",
   "name": "python",
   "nbconvert_exporter": "python",
   "pygments_lexer": "ipython3",
   "version": "3.9.12"
  },
  "vscode": {
   "interpreter": {
    "hash": "8f5708e537a9cc638f535a719ff081f975afa14d74db1f70a597005e35ac8c8d"
   }
  }
 },
 "nbformat": 4,
 "nbformat_minor": 5
}
